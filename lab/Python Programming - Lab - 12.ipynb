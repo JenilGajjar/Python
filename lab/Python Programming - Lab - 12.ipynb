{
 "cells": [
  {
   "cell_type": "markdown",
   "metadata": {},
   "source": [
    "<a href='https://www.darshan.ac.in/'> <img src='https://www.darshan.ac.in/Content/media/DU_Logo.svg' width=\"250\" height=\"300\"/></a>\n",
    "<pre>\n",
    "<center><b><h1>Python Programming - 2101CS405</b></center>\n",
    "<center><b><h1>Lab - 12</b></center>    \n",
    "<pre>"
   ]
  },
  {
   "cell_type": "markdown",
   "metadata": {},
   "source": [
    "# OOP"
   ]
  },
  {
   "cell_type": "markdown",
   "metadata": {},
   "source": [
    "### 01) Write a Program to create a class by name Students, and initialize attributes like name, age, and grade while creating an object."
   ]
  },
  {
   "cell_type": "code",
   "execution_count": null,
   "metadata": {},
   "outputs": [],
   "source": [
    "class Students:\n",
    "    def __init__(self,name,grade,age=18):\n",
    "        self.name = name\n",
    "        self.age = age\n",
    "        self.grade = grade\n",
    "    \n",
    "    def display_data(self):\n",
    "        print(f\"name  :{self.name}\")\n",
    "        print(f\"age   :{self.age}\")\n",
    "        print(f\"grade :{self.grade}\")\n",
    "\n",
    "student1 = Students('Jenil','A',19)\n",
    "student1.display_data()\n"
   ]
  },
  {
   "cell_type": "markdown",
   "metadata": {},
   "source": [
    "### 02) Create a class named Bank_Account with Account_No, User_Name, Email,Account_Type and Account_Balance data members. Also create a method GetAccountDetails() and DisplayAccountDetails(). Create main method to demonstrate the Bank_Account class."
   ]
  },
  {
   "cell_type": "code",
   "execution_count": null,
   "metadata": {},
   "outputs": [],
   "source": [
    "class Bank_Account:\n",
    "    def _display_account_details(self):\n",
    "        print(f\"Account Number  : {self.account_no}\")\n",
    "        print(f\"User Name       : {self.user_name}\")\n",
    "        print(f\"Email           : {self.email}\")\n",
    "        print(f\"Account Type    : {self.account_type}\")\n",
    "        print(f\"Account Balance : {self.account_balance}\")\n",
    "\n",
    "    def _get_account_details_from_user(self):\n",
    "        self.account_no = int(input(\"Enter Account number \"))\n",
    "        self.user_name = input(\"Enter User name \")\n",
    "        self.email = input(\"Enter Email \")\n",
    "        self.account_type = input(\"Enter Account type \")\n",
    "        self.account_balance = float(input(\"Enter Account balance \"))\n",
    "\n",
    "    def main(self):\n",
    "        self._get_account_details_from_user()\n",
    "        self._display_account_details()\n",
    "\n",
    "Bank_Account().main()\n"
   ]
  },
  {
   "cell_type": "markdown",
   "metadata": {},
   "source": [
    "### 03) WAP to create Circle class with area and perimeter function to find area and perimeter of circle."
   ]
  },
  {
   "cell_type": "code",
   "execution_count": null,
   "metadata": {},
   "outputs": [],
   "source": [
    "from math import pi\n",
    "class Circle:\n",
    "    radius = 0\n",
    "\n",
    "    @classmethod\n",
    "    def area_of_cirlce(cls):\n",
    "        return pi * cls.radius * cls.radius\n",
    "\n",
    "    @classmethod\n",
    "    def perimeter_of_cirlce(cls):\n",
    "        return 2 * pi * cls.radius\n",
    "\n",
    "    @classmethod\n",
    "    def set_radius(cls):\n",
    "        cls.radius = float(input(\"Enter radius \"))\n",
    "\n",
    "    def display_data():\n",
    "        print(f\"Area      of circle whose radius is {Circle.radius} : {Circle.area_of_cirlce():.2f}\")\n",
    "        print(f\"Perimeter of circle whose radius is {Circle.radius} : {Circle.perimeter_of_cirlce():.2f}\")\n",
    "\n",
    "\n",
    "Circle.set_radius()\n",
    "Circle.display_data()\n"
   ]
  },
  {
   "cell_type": "markdown",
   "metadata": {},
   "source": [
    "### 04) Create a class for employees that includes attributes such as name, age, salary, and methods to update and display employee information."
   ]
  },
  {
   "cell_type": "code",
   "execution_count": null,
   "metadata": {},
   "outputs": [],
   "source": [
    "\n",
    "\n",
    "class Employees:\n",
    "    def __init__(self, name, age=24, salary=7000) -> None:\n",
    "        self.employee_dictionary = {\n",
    "            \"name\": name,\n",
    "            \"age\": age,\n",
    "            \"salary\": salary\n",
    "        }\n",
    "\n",
    "    def _display_details(self):\n",
    "        print(\"name\", self.employee_dictionary['name'])\n",
    "        print(\"age\", self.employee_dictionary['age'])\n",
    "        print(\"salary\", self.employee_dictionary['salary'])\n",
    "\n",
    "    def _update_details(self, key, value):\n",
    "        self.employee_dictionary[key] = value\n",
    "\n",
    "emp1 = Employees('jenil')\n",
    "\n",
    "emp1._display_details()\n",
    "emp1._update_details(\n",
    "    input(\"Enter field to update(name.age,salary) \"), input(\"Enter value \"))\n",
    "print(10 * \"=\")\n",
    "emp1._display_details()"
   ]
  },
  {
   "cell_type": "markdown",
   "metadata": {},
   "source": [
    "### 05) Create a bank account class with methods to deposit, withdraw, and check balance."
   ]
  },
  {
   "cell_type": "code",
   "execution_count": null,
   "metadata": {},
   "outputs": [],
   "source": [
    "\n",
    "class Bank_Account:\n",
    "    def __init__(self, balance) -> None:\n",
    "        self.balance = balance\n",
    "\n",
    "    def withdraw(self, amount):\n",
    "        if (self.balance-amount > 0):\n",
    "            self.balance -= amount\n",
    "        else:\n",
    "            print(\"Invalid Amount\")\n",
    "\n",
    "    def deposit(self, amount):\n",
    "        self.balance += amount\n",
    "\n",
    "    def check_balance(self):\n",
    "        print(\"Your Current Balance :\", self.balance)\n",
    "\n",
    "    def update_balance(self):\n",
    "        choice = int(input(\n",
    "            \"do you want to update your balance?  \"\n",
    "            \"\\npress 1 to update  \"\n",
    "            \"\\npress 2 to exit \\n\"\n",
    "        ))\n",
    "        if (choice == 1):\n",
    "            choice = int(input(\n",
    "                \"press 1 to withdraw \"\n",
    "                \"\\npress 2 to deposit\\n\"\n",
    "            ))\n",
    "            amount = float(input(\"Enter amount \"))\n",
    "            if (choice == 1):\n",
    "                self.withdraw(amount)\n",
    "            else:\n",
    "                self.deposit(amount)\n",
    "            print(\"Your Current Balance :\", self.balance)\n",
    "\n",
    "\n",
    "bank_account = Bank_Account(1000)\n",
    "bank_account.check_balance()\n",
    "bank_account.update_balance()\n"
   ]
  },
  {
   "cell_type": "markdown",
   "metadata": {},
   "source": [
    "### 06) Create a class for managing inventory that includes attributes such as item name, price, quantity, and methods to add, remove, and update items."
   ]
  },
  {
   "cell_type": "code",
   "execution_count": null,
   "metadata": {},
   "outputs": [],
   "source": [
    "item_list = []\n",
    "\n",
    "\n",
    "class Inventory:\n",
    "    item_list = []\n",
    "    id = 0\n",
    "\n",
    "    def __init__(self, name='item', price=100, quantity=1) -> None:\n",
    "        self.item_dictionary = {\n",
    "            \"id\": Inventory.id,\n",
    "            \"name\": name,\n",
    "            \"price\": price,\n",
    "            \"quantity\": quantity\n",
    "        }\n",
    "        Inventory.id += 1\n",
    "        item_list.append(self.item_dictionary)\n",
    "\n",
    "    @staticmethod\n",
    "    def getItems():\n",
    "        for i in item_list:\n",
    "            print(i)\n",
    "\n",
    "    @staticmethod\n",
    "    def addItem():\n",
    "        name = input(\"Enter name \")\n",
    "        price = input(\"Enter price  \")\n",
    "        quantity = input(\"Enter quantity  \")\n",
    "        item_dictionary = {\n",
    "            \"id\": Inventory.id,\n",
    "            \"name\": name,\n",
    "            \"price\": price,\n",
    "            \"quantity\": quantity\n",
    "        }\n",
    "        Inventory.id += 1\n",
    "        item_list.append(item_dictionary)\n",
    "\n",
    "    @staticmethod\n",
    "    def deleteItem(id):\n",
    "        dictionary = {}\n",
    "        for i in item_list:\n",
    "            if i['id'] == id:\n",
    "                dictionary = i\n",
    "                print(\"deleted item\", dictionary)\n",
    "                item_list.remove(dictionary)\n",
    "                break\n",
    "        else:\n",
    "            print(\"item not found\")\n",
    "\n",
    "    @staticmethod\n",
    "    def updateItem(id):\n",
    "        dictionary = {}\n",
    "        for index, item in enumerate(item_list):\n",
    "            if item['id'] == id:\n",
    "                dictionary = item\n",
    "\n",
    "                while True:\n",
    "                    choice = int(input(\n",
    "                        'Enter youe choice\\n'\n",
    "                        '1.Press 1 to update name\\n'\n",
    "                        '2.Press 2 to update price\\n'\n",
    "                        '3.Press 3 to update quantity\\n'\n",
    "                        '4.Press 4 exit\\n'\n",
    "                    ))\n",
    "                    if (choice == 1):\n",
    "                        dictionary['name'] = input(\"Enter new name \")\n",
    "                    elif (choice == 2):\n",
    "                        dictionary['price'] = input(\"Enter new price \")\n",
    "                    elif (choice == 3):\n",
    "                        dictionary['quantity'] = input(\"Enter new quantity \")\n",
    "                    else:\n",
    "                        break\n",
    "\n",
    "                item_list[index] = dictionary\n",
    "                break\n",
    "        else:\n",
    "            print(\"item not found\")\n",
    "\n",
    "\n",
    "item1 = Inventory('item1')\n",
    "item2 = Inventory('item2')\n",
    "Inventory.getItems()\n",
    "Inventory.deleteItem(1)\n",
    "Inventory.updateItem(0)\n",
    "Inventory.getItems()\n"
   ]
  },
  {
   "cell_type": "markdown",
   "metadata": {},
   "source": [
    "### 09) Create a Class with instance attributes"
   ]
  },
  {
   "cell_type": "code",
   "execution_count": null,
   "metadata": {},
   "outputs": [],
   "source": [
    "class Student:\n",
    "    def __init__(self,name:str,roll_no:int,enrollment_no:int) -> None:\n",
    "        self.name = name\n",
    "        self.roll_no =roll_no \n",
    "        self.enrollment_no = enrollment_no \n",
    "    def print_details(self):\n",
    "        print(\" name\",self.name )\n",
    "        print(\" roll_no\",self.roll_no )\n",
    "        print(\" enrollment_no\",self.enrollment_no )\n",
    "Student('jenil',201,21010101063).print_details()"
   ]
  },
  {
   "cell_type": "markdown",
   "metadata": {},
   "source": [
    "### 07)\n",
    "Create one class student_kit <br>\n",
    "Within the student_kit class create one class attribute principal name ( Mr ABC ) <br>\n",
    "Create one attendance method and take input as number of days. <br>\n",
    "While creating student take input their name . <br>\n",
    "Create one certificate for each student by taking input of number of days present in class. <br>"
   ]
  },
  {
   "cell_type": "code",
   "execution_count": null,
   "metadata": {},
   "outputs": [],
   "source": [
    "class StudentKit:\n",
    "    principal_name ='Mr. ABC'\n",
    "\n",
    "    def __init__(self,name) -> None:\n",
    "        self.name = name\n",
    "\n",
    "    def attendence(self,number_of_days):\n",
    "        self.number_of_days = number_of_days\n",
    "\n",
    "    def certificate(self):\n",
    "        print(self.name)\n",
    "        print(self.number_of_days)\n",
    "        print(StudentKit.principal_name)\n",
    "\n",
    "\n",
    "student = StudentKit('jenil')\n",
    "\n",
    "student.attendence(360)\n",
    "student.certificate()\n"
   ]
  },
  {
   "cell_type": "markdown",
   "metadata": {},
   "source": [
    "### 08) Define Time class with hour and minute as data member. Also define addition method to add two time objects."
   ]
  },
  {
   "cell_type": "code",
   "execution_count": null,
   "metadata": {},
   "outputs": [],
   "source": [
    "class Time:\n",
    "    def __init__(self, hour, minute, second) -> None:\n",
    "        self.hour = hour\n",
    "        self.minute = minute\n",
    "        self.second = second\n",
    "\n",
    "    def print_time(self):\n",
    "        print(f'{self.hour} : {self.minute} : {self.second}')\n",
    "\n",
    "    def add(self, hour=0, minute=0, second=0, time=None):\n",
    "        self.hour += hour if time == None else time.hour\n",
    "        self.minute += minute if time == None else time.minute\n",
    "        self.second += second if time == None else time.second\n",
    "        while (self.second >= 60):\n",
    "            self.second -= 60\n",
    "            self.minute += 1\n",
    "        while (self.minute >= 60):\n",
    "            self.minute -= 60\n",
    "            self.hour += 1\n",
    "\n",
    "\n",
    "t = Time(5, 5, 5)\n",
    "t.print_time()\n",
    "t1 = Time(1, 60, 60)\n",
    "t.add(time=t1)\n",
    "t.print_time()\n",
    "t.add(1, 1, 1)\n",
    "t.print_time()\n"
   ]
  },
  {
   "attachments": {},
   "cell_type": "markdown",
   "metadata": {},
   "source": [
    "### 09) WAP to demonstrate inheritance in python."
   ]
  },
  {
   "cell_type": "code",
   "execution_count": null,
   "metadata": {},
   "outputs": [],
   "source": [
    "class A:\n",
    "    def __init__(self,name) -> None:\n",
    "        self.name=name\n",
    "    def print_name(self):\n",
    "        print(\"name :\",self.name)\n",
    "    \n",
    "class B(A):\n",
    "    def __init__(self, name,age) -> None:\n",
    "        super().__init__(name)\n",
    "        self.age = age\n",
    "    def print_details(self):\n",
    "        super().print_name()\n",
    "        print(\"age  :\",self.age)\n",
    "B('jenil',19).print_details()"
   ]
  },
  {
   "cell_type": "markdown",
   "metadata": {},
   "source": [
    "### 10) Create a child class Bus that will inherit all of the variables and methods of the Vehicle class\n",
    "class Vehicle:\n",
    "\n",
    "    def __init__(self, name, max_speed, mileage):\n",
    "        self.name = name\n",
    "        self.max_speed = max_speed\n",
    "        self.mileage = mileage\n",
    "        \n",
    "Create a Bus object that will inherit all of the variables and methods of the parent Vehicle class and display it.        "
   ]
  },
  {
   "cell_type": "code",
   "execution_count": null,
   "metadata": {},
   "outputs": [],
   "source": [
    "class Vehicle:\n",
    "\n",
    "    def __init__(self, name, max_speed, mileage):\n",
    "        self.name = name\n",
    "        self.max_speed = max_speed\n",
    "        self.mileage = mileage\n",
    "\n",
    "    def print_details(self):\n",
    "        print(\"name        :\",self.name)\n",
    "        print(\"max_speed   :\",self.max_speed)\n",
    "        print(\"mileage     :\",self.mileage)\n",
    "class Bus(Vehicle):\n",
    "    pass\n",
    "Bus('bus1',100,1.2).print_details()\n"
   ]
  },
  {
   "cell_type": "markdown",
   "metadata": {},
   "source": [
    "### 11)  Create a class hierarchy for different types of animals, with a parent Animal class and child classes for specific animals like Cat, Dog, and Bird."
   ]
  },
  {
   "cell_type": "code",
   "execution_count": null,
   "metadata": {},
   "outputs": [],
   "source": [
    "class Animal:\n",
    "    def __init__(self,name,eyes=2,ears=2) -> None:\n",
    "        self.name = name\n",
    "        self.eyes = eyes\n",
    "        self.ears = ears\n",
    "    def print_details(self):\n",
    "        print(\"name :\",self.name)\n",
    "        print(\"eyes :\",self.eyes)\n",
    "        print(\"ears :\",self.ears)\n",
    "class Dog(Animal):\n",
    "    def __init__(self,name,eyes=2,ears=2,tail=1):\n",
    "        super().__init__(name,eyes,ears)\n",
    "        self.tail = tail\n",
    "    def print_details(self):\n",
    "        super().print_details()\n",
    "        print(\"tail :\",self.tail)\n",
    "class Cat(Animal):\n",
    "    def __init__(self,name,eyes=2,ears=2,tail=1):\n",
    "        super().__init__(name,eyes,ears)\n",
    "        self.tail = tail\n",
    "    def print_details(self):\n",
    "        super().print_details()\n",
    "        print(\"tail :\",self.tail)\n",
    "class Bird(Animal):\n",
    "    pass\n",
    "Dog('tony').print_details()\n",
    "Cat('nyon').print_details()\n",
    "Bird('pery').print_details()"
   ]
  },
  {
   "cell_type": "markdown",
   "metadata": {},
   "source": [
    "### 12) Create a class hierarchy for different types of vehicles, with a parent Vehicle class and child classes for specific vehicles like Car, Truck, and Motorcycle."
   ]
  },
  {
   "cell_type": "code",
   "execution_count": null,
   "metadata": {},
   "outputs": [],
   "source": [
    "class Vehicle:\n",
    "    def __init__(self,name,tire= 4,seat = 4) -> None:\n",
    "        self.name = name\n",
    "        self.tire = tire\n",
    "        self.seat = seat\n",
    "    def print_details(self):\n",
    "        print(\"name  : \",self.name)\n",
    "        print(\"tire  : \",self.tire)\n",
    "        print(\"seat  : \",self.seat)\n",
    "class Car(Vehicle):\n",
    "    def __init__(self, name, tire=4, seat=4) -> None:\n",
    "        super().__init__(name, tire, seat)\n",
    "    \n",
    "class Truck(Vehicle):\n",
    "    def __init__(self, name, tire=10, seat=2) -> None:\n",
    "        super().__init__(name, tire, seat)\n",
    "\n",
    "class MotorCycle(Vehicle):\n",
    "    def __init__(self, name, tire = 2, seat=1) -> None:\n",
    "        super().__init__(name, tire, seat)\n",
    "Car('echo').print_details()\n",
    "Truck('truck').print_details()\n",
    "MotorCycle('harley').print_details()\n",
    "\n",
    "    "
   ]
  },
  {
   "cell_type": "markdown",
   "metadata": {},
   "source": [
    "### 13)  Create a class hierarchy for different types of bank accounts, with a parent Account class and child classes for specific account types like Checking, Savings, and Credit."
   ]
  },
  {
   "cell_type": "code",
   "execution_count": null,
   "metadata": {},
   "outputs": [],
   "source": [
    "class Account:\n",
    "    def __init__(self,balance) -> None:\n",
    "        self.balance = balance\n",
    "    def print_balance(self):\n",
    "        print(\"balance :\",self.balance)\n",
    "class Checking(Account):\n",
    "    pass\n",
    "class Savings(Account):\n",
    "    pass\n",
    "class Credit(Account):\n",
    "    pass\n",
    "\n",
    "Checking(1000).print_balance()\n",
    "Savings(2000).print_balance()\n",
    "Credit(3000).print_balance()"
   ]
  },
  {
   "cell_type": "markdown",
   "metadata": {},
   "source": [
    "### 14) Create a Shape class with a draw method that is not implemented. Create three child classes Rectangle, Circle, and Triangle that implement the draw method with their respective drawing behaviors. Create a list of Shape objects that includes one instance of each child class, and then iterate through the list and call the draw method on each object."
   ]
  },
  {
   "cell_type": "code",
   "execution_count": null,
   "metadata": {},
   "outputs": [],
   "source": [
    "class Shape:\n",
    "    shape_list = []\n",
    "    def  draw(self):\n",
    "        pass\n",
    "\n",
    "class Rectangle(Shape):\n",
    "    def __init__(self,a,b) -> None:\n",
    "        self.a=a\n",
    "        self.b=b\n",
    "        super().shape_list.append(self)\n",
    "    def draw(self):\n",
    "        print(f\"Rectangle with Area: {self.a  ** self.b}\")\n",
    "\n",
    "\n",
    "class Circle(Shape):\n",
    "    def __init__(self,r) -> None:\n",
    "        self.r=r\n",
    "        super().shape_list.append(self)\n",
    "    def draw(self):\n",
    "        print(f\"Circle with Area : {3.14 * self.r * self.r}\")\n",
    "\n",
    "class Triangle(Shape):\n",
    "    def __init__(self,h,b) -> None:\n",
    "        self.h=h\n",
    "        self.b=b\n",
    "        super().shape_list.append(self)\n",
    "\n",
    "    def draw(self):\n",
    "        print(f\"Triangle with Area : {0.5 * self.h * self.b}\")\n",
    "\n",
    "Rectangle(3,2)\n",
    "Circle(2)\n",
    "Triangle(4,3)\n",
    "for i in Shape.shape_list:\n",
    "    i.draw()"
   ]
  },
  {
   "cell_type": "markdown",
   "metadata": {},
   "source": [
    "### 15) Create a Person class with a constructor that takes two arguments name and age. Create a child class Employee that inherits from Person and adds a new attribute salary. Override the __init__ method in Employee to call the parent class's __init__ method using the super keyword, and then initialize the salary attribute."
   ]
  },
  {
   "cell_type": "code",
   "execution_count": null,
   "metadata": {},
   "outputs": [],
   "source": [
    "class Person:\n",
    "    def __init__(self,name,age) -> None:\n",
    "        self.name = name\n",
    "        self.age = age\n",
    "    def print_details(self):\n",
    "        print(\"name   :\",self.name)\n",
    "        print(\"age    :\",self.age)\n",
    "class Employee(Person):\n",
    "    def __init__(self, name, age, salary) -> None:\n",
    "        # Person.__init__(self,name, age)\n",
    "        super().__init__(name,age)\n",
    "        self.salary = salary\n",
    "\n",
    "    def print_details(self):\n",
    "        super().print_details()\n",
    "        print(\"salary :\",self.salary)\n",
    "\n",
    "\n",
    "Employee('jenil',18,2000).print_details()\n"
   ]
  },
  {
   "cell_type": "markdown",
   "metadata": {},
   "source": []
  }
 ],
 "metadata": {
  "kernelspec": {
   "display_name": "Python 3",
   "language": "python",
   "name": "python3"
  },
  "language_info": {
   "codemirror_mode": {
    "name": "ipython",
    "version": 3
   },
   "file_extension": ".py",
   "mimetype": "text/x-python",
   "name": "python",
   "nbconvert_exporter": "python",
   "pygments_lexer": "ipython3",
   "version": "3.11.0"
  },
  "vscode": {
   "interpreter": {
    "hash": "7906970c21a37aad23281fb4e04ffc671ef41eb2380e1c3bdf2de73fda28b099"
   }
  }
 },
 "nbformat": 4,
 "nbformat_minor": 4
}
