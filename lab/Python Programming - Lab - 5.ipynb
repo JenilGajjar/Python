{
 "cells": [
  {
   "cell_type": "markdown",
   "metadata": {},
   "source": [
    "\n",
    "<a href='https://www.darshan.ac.in/'> <img src='https://www.darshan.ac.in/Content/media/DU_Logo.svg' width=\"250\" height=\"300\"/></a>\n",
    "<pre>\n",
    "<center><b><h1>Python Programming - 2101CS405</b></center>\n",
    "<center><b><h1>Lab - 5</b></center>    \n",
    "<pre>"
   ]
  },
  {
   "cell_type": "markdown",
   "metadata": {},
   "source": [
    "# list"
   ]
  },
  {
   "cell_type": "markdown",
   "metadata": {},
   "source": [
    "### 01) WAP to find sum of all the elements in List."
   ]
  },
  {
   "cell_type": "code",
   "execution_count": null,
   "metadata": {},
   "outputs": [],
   "source": [
    "n = int(input(\"Enter a number \"))\n",
    "list = []\n",
    "for i in range(n):\n",
    "    list.append(int(input(\"Enter a number \")))\n",
    "print(sum(list))"
   ]
  },
  {
   "cell_type": "markdown",
   "metadata": {},
   "source": [
    "### 02) WAP to find largest element in a List."
   ]
  },
  {
   "cell_type": "code",
   "execution_count": null,
   "metadata": {},
   "outputs": [],
   "source": [
    "n = int(input(\"Enter a number \"))\n",
    "list = []\n",
    "for i in range(n):\n",
    "    list.append(int(input(\"Enter a number \")))\n",
    "print(max(list))"
   ]
  },
  {
   "cell_type": "markdown",
   "metadata": {},
   "source": [
    "### 03) WAP to split the List into two and append the first part to the end."
   ]
  },
  {
   "cell_type": "code",
   "execution_count": null,
   "metadata": {},
   "outputs": [],
   "source": [
    "n = int(input(\"Enter a number \"))\n",
    "list = []\n",
    "for i in range(n):\n",
    "    list.append(int(input(\"Enter a number \")))\n",
    "\n",
    "list =  list[len(list)//2::] + list[:len(list)//2:] \n",
    "print(list)"
   ]
  },
  {
   "cell_type": "markdown",
   "metadata": {},
   "source": [
    "### 04) WAP to interchange first and last elements in list entered by a user."
   ]
  },
  {
   "cell_type": "code",
   "execution_count": null,
   "metadata": {},
   "outputs": [],
   "source": [
    "n = int(input(\"Enter a number \"))\n",
    "list = []\n",
    "for i in range(n):\n",
    "    list.append(int(input(\"Enter a number \")))\n",
    "\n",
    "print(list)\n",
    "list[0],list[-1] = list[-1],list[0]\n",
    "print(list)"
   ]
  },
  {
   "cell_type": "markdown",
   "metadata": {},
   "source": [
    "### 05) WAP to interchange the elements on two positions entered by a user."
   ]
  },
  {
   "cell_type": "code",
   "execution_count": null,
   "metadata": {},
   "outputs": [],
   "source": [
    "n = int(input(\"Enter a number \"))\n",
    "list = []\n",
    "for i in range(n):\n",
    "    list.append(int(input(\"Enter a number \")))\n",
    "\n",
    "index1 = int(input(\"Enter index number one\"))\n",
    "index2 = int(input(\"Enter index number two\"))\n",
    "\n",
    "while  (index1>=len(list) or index2>=len(list)):\n",
    "    print(f\"Invalid!! index is should be less than {len(list)}\")\n",
    "    index1 = int(input(\"Enter index number one\"))\n",
    "    index2 = int(input(\"Enter index number two\"))\n",
    "\n",
    "\n",
    "print(list)\n",
    "list[index1],list[index2] = list[index2],list[index1]\n",
    "print(list)\n"
   ]
  },
  {
   "cell_type": "markdown",
   "metadata": {},
   "source": [
    "### 06) WAP to reverses the list entered by user."
   ]
  },
  {
   "cell_type": "code",
   "execution_count": null,
   "metadata": {},
   "outputs": [],
   "source": [
    "n = int(input(\"Enter a number \"))\n",
    "list = []\n",
    "for i in range(n):\n",
    "    list.append(int(input(\"Enter a number \")))\n",
    "print(list)\n",
    "list.reverse()\n",
    "print(list)"
   ]
  },
  {
   "cell_type": "markdown",
   "metadata": {},
   "source": [
    "### 07) Python program to remove multiple elements from a list using list comprehension"
   ]
  },
  {
   "cell_type": "code",
   "execution_count": null,
   "metadata": {},
   "outputs": [],
   "source": [
    "n = int(input(\"Enter a number \"))\n",
    "list = []\n",
    "for i in range(n):\n",
    "    list.append(int(input(\"Enter a number \")))\n",
    "[list.remove(x) for x in list if list.count(x)>1]\n",
    "print(list)"
   ]
  },
  {
   "cell_type": "markdown",
   "metadata": {},
   "source": [
    "### 08) Create a list from the specified start to end index of another list."
   ]
  },
  {
   "cell_type": "code",
   "execution_count": null,
   "metadata": {},
   "outputs": [],
   "source": [
    "n = int(input(\"Enter a number \"))\n",
    "list = []\n",
    "for i in range(n):\n",
    "    list.append(int(input(\"Enter a number \")))\n",
    "start = int(input(\"Enter starting index \"))\n",
    "end = int(input(\"Enter ending index \"))\n",
    "print(list)\n",
    "list2 = list[start:end+1]\n",
    "print(list2)"
   ]
  },
  {
   "cell_type": "markdown",
   "metadata": {},
   "source": [
    "### 09) Input comma separated elements, convert into list and print."
   ]
  },
  {
   "cell_type": "code",
   "execution_count": null,
   "metadata": {},
   "outputs": [],
   "source": [
    "list = input(\"Enter comma separated elements \").split(',')\n",
    "print(list)\n",
    "list = [int(i) for i in list]\n",
    "print(list)"
   ]
  },
  {
   "cell_type": "markdown",
   "metadata": {},
   "source": [
    "### 01) WAP to count Even and Odd numbers in a List."
   ]
  },
  {
   "cell_type": "code",
   "execution_count": null,
   "metadata": {},
   "outputs": [],
   "source": [
    "n = int(input(\"Enter a number \"))\n",
    "list = []\n",
    "for i in range(n):\n",
    "    list.append(int(input(\"Enter a number \")))\n",
    "count_odd = 0\n",
    "for i in list:\n",
    "    if(i % 2!=0):count_odd+=1\n",
    "print(*list)\n",
    "print(f'Odd numbers in list {count_odd}')\n",
    "print(f'Even numbers in list {len(list)- count_odd}')\n"
   ]
  },
  {
   "cell_type": "markdown",
   "metadata": {},
   "source": [
    "### 02) Python program to find N largest and smallest elements from the list"
   ]
  },
  {
   "cell_type": "code",
   "execution_count": null,
   "metadata": {},
   "outputs": [],
   "source": [
    "n = int(input(\"Enter a number \"))\n",
    "list = []\n",
    "for i in range(n):\n",
    "    list.append(int(input(\"Enter a number \")))\n",
    "n = int(input(\"Enter the number of maximum and minimum you want to display \"))\n",
    "max_list = []\n",
    "min_list = []\n",
    "for  i in range(n):\n",
    "    maximum = max(list)\n",
    "    minimum = min(list)\n",
    "    max_list.append(maximum)\n",
    "    min_list.append(minimum)\n",
    "    list.remove(maximum)\n",
    "    list.remove(minimum)\n",
    "print(max_list)\n",
    "print(min_list)"
   ]
  },
  {
   "cell_type": "markdown",
   "metadata": {},
   "source": [
    "### 03) WAP to print duplicates from a list of integers"
   ]
  },
  {
   "cell_type": "code",
   "execution_count": null,
   "metadata": {},
   "outputs": [],
   "source": [
    "n = int(input(\"Enter a number \"))\n",
    "list = []\n",
    "for i in range(n):\n",
    "    list.append(int(input(\"Enter a number \")))\n",
    "\n",
    "print(list)\n",
    "list2 = [] \n",
    "for i in list:\n",
    "    if(list.count(i)>1 and list2.count(i)==0):list2.append(i)\n",
    "print(list2)"
   ]
  }
 ],
 "metadata": {
  "kernelspec": {
   "display_name": "Python 3",
   "language": "python",
   "name": "python3"
  },
  "language_info": {
   "codemirror_mode": {
    "name": "ipython",
    "version": 3
   },
   "file_extension": ".py",
   "mimetype": "text/x-python",
   "name": "python",
   "nbconvert_exporter": "python",
   "pygments_lexer": "ipython3",
   "version": "3.11.0"
  },
  "vscode": {
   "interpreter": {
    "hash": "7906970c21a37aad23281fb4e04ffc671ef41eb2380e1c3bdf2de73fda28b099"
   }
  }
 },
 "nbformat": 4,
 "nbformat_minor": 4
}
