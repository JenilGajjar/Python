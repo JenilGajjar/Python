{
 "cells": [
  {
   "cell_type": "markdown",
   "metadata": {},
   "source": [
    "<a href='https://www.darshan.ac.in/'> <img src='https://www.darshan.ac.in/Content/media/DU_Logo.svg' width=\"250\" height=\"300\"/></a>\n",
    "<pre>\n",
    "<center><b><h1>Python Programming - 2101CS405</b></center>\n",
    "<center><b><h1>Lab - 1</b></center>    \n",
    "<pre>"
   ]
  },
  {
   "cell_type": "markdown",
   "metadata": {},
   "source": [
    "### 01) WAP to print “Hello World”"
   ]
  },
  {
   "cell_type": "code",
   "execution_count": 1,
   "metadata": {},
   "outputs": [
    {
     "name": "stdout",
     "output_type": "stream",
     "text": [
      "Hello word\n"
     ]
    }
   ],
   "source": [
    "print(\"Hello word\")"
   ]
  },
  {
   "cell_type": "markdown",
   "metadata": {},
   "source": [
    "### 02) WAP to print your address i) using single print ii) using multiple print"
   ]
  },
  {
   "cell_type": "code",
   "execution_count": 2,
   "metadata": {},
   "outputs": [
    {
     "name": "stdout",
     "output_type": "stream",
     "text": [
      "aarti saidham soceity\n",
      "street number 2\n",
      "behind gokuldham soceity\n",
      "near ankur nagar main road rajkot 360004\n",
      "\n",
      "aarti saidham soceity\n",
      "street number 2\n",
      "behind gokuldham soceity\n",
      "near ankur nagar main road rajkot 360004\n"
     ]
    }
   ],
   "source": [
    "# using multi line\n",
    "print(\"aarti saidham soceity\")\n",
    "print(\"street number 2\")\n",
    "print(\"behind gokuldham soceity\")\n",
    "print(\"near ankur nagar main road rajkot 360004\\n\")\n",
    "\n",
    "# using single line\n",
    "print(\"aarti saidham soceity\\nstreet number 2\\nbehind gokuldham soceity\\nnear ankur nagar main road rajkot 360004\")"
   ]
  },
  {
   "cell_type": "markdown",
   "metadata": {},
   "source": [
    "### 03) WAP to print addition of 2 numbers (without input function)"
   ]
  },
  {
   "cell_type": "code",
   "execution_count": 8,
   "metadata": {},
   "outputs": [
    {
     "name": "stdout",
     "output_type": "stream",
     "text": [
      "Addition :  3\n"
     ]
    }
   ],
   "source": [
    "a = 1\n",
    "b = 2\n",
    "print(\"Addition : \",a+b)"
   ]
  },
  {
   "cell_type": "markdown",
   "metadata": {},
   "source": [
    "### 04) WAP to calculate and print average of 2 numbers (without input function)"
   ]
  },
  {
   "cell_type": "code",
   "execution_count": 9,
   "metadata": {},
   "outputs": [
    {
     "name": "stdout",
     "output_type": "stream",
     "text": [
      "Average : 3.5\n"
     ]
    }
   ],
   "source": [
    "a = 4\n",
    "b = 3\n",
    "avg = (a+b)/2\n",
    "print(\"Average :\",avg)"
   ]
  },
  {
   "cell_type": "markdown",
   "metadata": {},
   "source": [
    "### 05) WAP to add two number entered by user."
   ]
  },
  {
   "cell_type": "code",
   "execution_count": 10,
   "metadata": {},
   "outputs": [
    {
     "name": "stdout",
     "output_type": "stream",
     "text": [
      "Addition :  5\n"
     ]
    }
   ],
   "source": [
    "first  = int(input(\"Enter first number\"))\n",
    "second = int(input(\"Enter second number\"))\n",
    "print(\"Addition : \",first + second)"
   ]
  },
  {
   "cell_type": "markdown",
   "metadata": {},
   "source": [
    "### 06) WAP to calculate simple interest."
   ]
  },
  {
   "cell_type": "code",
   "execution_count": 12,
   "metadata": {},
   "outputs": [
    {
     "name": "stdout",
     "output_type": "stream",
     "text": [
      "simple interest : 0.64\n"
     ]
    }
   ],
   "source": [
    "principal = int(input(\"Enter principal  :\"))\n",
    "rate = int(input(\"Enter rate :\"))\n",
    "number_of_days = int(input(\"Enter number of days :\"))\n",
    "i =  (principal*rate*number_of_days)/100\n",
    "print(\"simple interest :\",i)"
   ]
  },
  {
   "cell_type": "markdown",
   "metadata": {},
   "source": [
    "07) WAP Calculate Area and Circumfrence of Circle"
   ]
  },
  {
   "cell_type": "code",
   "execution_count": null,
   "metadata": {},
   "outputs": [
    {
     "name": "stdout",
     "output_type": "stream",
     "text": [
      "Area : 12.56\n",
      "Circumfrence: 12.56\n"
     ]
    }
   ],
   "source": [
    "\n",
    "PI = 3.14\n",
    "radius = float(input(\"Enter radius\"))\n",
    "area = PI * pow(radius,2)\n",
    "circumfrence = 2 * PI * radius\n",
    "\n",
    "print(\"Area :\",area)\n",
    "print(\"Circumfrence:\",circumfrence)"
   ]
  },
  {
   "cell_type": "markdown",
   "metadata": {},
   "source": [
    "### 08) WAP to print Multiplication table of given number without using loops."
   ]
  },
  {
   "cell_type": "code",
   "execution_count": null,
   "metadata": {},
   "outputs": [
    {
     "name": "stdout",
     "output_type": "stream",
     "text": [
      "3 x 1 = 3\n",
      "3 x 2 = 6\n",
      "3 x 3 = 9\n",
      "3 x 4 = 12\n",
      "3 x 5 = 15\n",
      "3 x 6 = 18\n",
      "3 x 7 = 21\n",
      "3 x 8 = 24\n",
      "3 x 9 = 27\n",
      "3 x 10= 30\n"
     ]
    }
   ],
   "source": [
    "n = int(input(\"Enter a number\"))\n",
    "print(n ,\"x 1 =\",n*1)\n",
    "print(n ,\"x 2 =\",n*2)\n",
    "print(n ,\"x 3 =\",n*3)\n",
    "print(n ,\"x 4 =\",n*4)\n",
    "print(n ,\"x 5 =\",n*5)\n",
    "print(n ,\"x 6 =\",n*6)\n",
    "print(n ,\"x 7 =\",n*7)\n",
    "print(n ,\"x 8 =\",n*8)\n",
    "print(n ,\"x 9 =\",n*9)\n",
    "print(n ,\"x 10=\",n*10)"
   ]
  },
  {
   "cell_type": "markdown",
   "metadata": {},
   "source": [
    "### 09) WAP to calculate Area of Triangle (hint: a = h * b * 0.5)"
   ]
  },
  {
   "cell_type": "code",
   "execution_count": null,
   "metadata": {},
   "outputs": [
    {
     "name": "stdout",
     "output_type": "stream",
     "text": [
      "Area : 8.0\n"
     ]
    }
   ],
   "source": [
    "height = int(input(\"Enter height\"))\n",
    "base = int(input(\"Enter base\"))\n",
    "area = height * base * (0.5)\n",
    "print(\"Area :\",area)"
   ]
  },
  {
   "cell_type": "markdown",
   "metadata": {},
   "source": [
    "### 10) WAP to convert degree to Fahrenheit and vice versa."
   ]
  },
  {
   "cell_type": "code",
   "execution_count": null,
   "metadata": {},
   "outputs": [
    {
     "name": "stdout",
     "output_type": "stream",
     "text": [
      "Degree : 4.44 Fahrenhit: 39.992\n",
      "Fahrenhit: 70.0 Degree : 21.11\n"
     ]
    }
   ],
   "source": [
    "degree1 = float(input(\"Enter degree\"))\n",
    "fahrenhit1  = (degree1 * 9/5) + 32 \n",
    "print(\"Degree :\",degree1,\"Fahrenhit:\",fahrenhit1)\n",
    "\n",
    "fahrenhit2 = float(input(\"Enter degree\"))\n",
    "degree2 = (fahrenhit2 - 32) * (5/9) \n",
    "print(\"Fahrenhit:\",(fahrenhit2),\"Degree :\",round(degree2,2))"
   ]
  },
  {
   "cell_type": "markdown",
   "metadata": {},
   "source": [
    "### 11) WAP to calculate total marks and Percentage."
   ]
  },
  {
   "cell_type": "code",
   "execution_count": null,
   "metadata": {},
   "outputs": [
    {
     "name": "stdout",
     "output_type": "stream",
     "text": [
      "Total marks 409\n",
      "Percentage 81.8\n"
     ]
    }
   ],
   "source": [
    "n = int(input(\"Enter number of subjects\"))\n",
    "list = []\n",
    "\n",
    "for i in range(n):\n",
    "    list.append(int(input(f'Enter marks in subject {i+1}')))\n",
    "\n",
    "marks = 0\n",
    "for i in list:\n",
    "    marks+=i\n",
    "print(\"Total marks\",marks)\n",
    "print(\"Percentage\" , marks/len(list))"
   ]
  },
  {
   "cell_type": "markdown",
   "metadata": {},
   "source": [
    "### 12) Compute distance between two points taking input from the user (Pythagorean Theorem)."
   ]
  },
  {
   "cell_type": "code",
   "execution_count": null,
   "metadata": {},
   "outputs": [
    {
     "data": {
      "text/plain": [
       "4.0"
      ]
     },
     "execution_count": 4,
     "metadata": {},
     "output_type": "execute_result"
    }
   ],
   "source": [
    "import math\n",
    "x1 = int(input(\"Enter x1\"))\n",
    "y1 = int(input(\"Enter y1\"))\n",
    "x2 = int(input(\"Enter x2\"))\n",
    "y2 = int(input(\"Enter y2\"))\n",
    "\n",
    "distance = math.sqrt(pow(x1-x2,2)) + math.sqrt(pow(y1-y2,2))\n",
    "distance"
   ]
  },
  {
   "cell_type": "markdown",
   "metadata": {},
   "source": [
    "### 13) WAP to convert seconds into hours, minutes & seconds and print in HH:MM:SS\n",
    "[e.g. 10000 seconds mean 2:46:40 (2 Hours, 46 Minutes, 40Seconds)]"
   ]
  },
  {
   "cell_type": "code",
   "execution_count": null,
   "metadata": {},
   "outputs": [
    {
     "name": "stdout",
     "output_type": "stream",
     "text": [
      "2:46:40\n"
     ]
    }
   ],
   "source": [
    "second = int(input(\"Enter seconds\"))\n",
    "hour = second // 3600\n",
    "second = second % 3600 \n",
    "minute = second // 60\n",
    "second = second % 60\n",
    "print(hour,minute,second,sep=\":\")"
   ]
  },
  {
   "cell_type": "markdown",
   "metadata": {},
   "source": [
    "### 14) WAP to enter distance into kilometer and convert it into meter, feet,inches, and centimeter"
   ]
  },
  {
   "cell_type": "code",
   "execution_count": 15,
   "metadata": {},
   "outputs": [
    {
     "name": "stdout",
     "output_type": "stream",
     "text": [
      "distance in meter: 1.0\n",
      "distance in feet: 3.28\n",
      "distance in inch: 39.36\n",
      "distance in centimeter: 100.0\n"
     ]
    }
   ],
   "source": [
    "kilometer = float(input(\"Enter distance in kilometer\"))\n",
    "meter = 1000 * kilometer\n",
    "feet = 3.28 * meter\n",
    "inch = 12 * feet\n",
    "centimeter = 100 * meter\n",
    "\n",
    "print(\"distance in meter:\",meter)\n",
    "print(\"distance in feet:\",feet)\n",
    "print(\"distance in inch:\",inch)\n",
    "print(\"distance in centimeter:\",centimeter)"
   ]
  }
 ],
 "metadata": {
  "kernelspec": {
   "display_name": "Python 3 (ipykernel)",
   "language": "python",
   "name": "python3"
  },
  "language_info": {
   "codemirror_mode": {
    "name": "ipython",
    "version": 3
   },
   "file_extension": ".py",
   "mimetype": "text/x-python",
   "name": "python",
   "nbconvert_exporter": "python",
   "pygments_lexer": "ipython3",
   "version": "3.9.13"
  },
  "vscode": {
   "interpreter": {
    "hash": "323e5640dedf2cf918fbee74e8b155a3c7b3d177d738df82643ce3d37a961270"
   }
  }
 },
 "nbformat": 4,
 "nbformat_minor": 4
}
