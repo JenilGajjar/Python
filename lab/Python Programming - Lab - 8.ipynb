{
 "cells": [
  {
   "cell_type": "markdown",
   "metadata": {},
   "source": [
    "<a href='https://www.darshan.ac.in/'> <img src='https://www.darshan.ac.in/Content/media/DU_Logo.svg' width=\"250\" height=\"300\"/></a>\n",
    "<pre>\n",
    "<center><b><h1>Python Programming - 2101CS405</b></center>\n",
    "<center><b><h1>Lab - 8</b></center>    \n",
    "<pre>"
   ]
  },
  {
   "cell_type": "markdown",
   "metadata": {},
   "source": [
    "# File handling"
   ]
  },
  {
   "cell_type": "markdown",
   "metadata": {},
   "source": [
    "# A"
   ]
  },
  {
   "cell_type": "markdown",
   "metadata": {},
   "source": [
    "### 01) WAP to read entire file named abc.txt"
   ]
  },
  {
   "cell_type": "code",
   "execution_count": null,
   "metadata": {},
   "outputs": [],
   "source": [
    "f = open('abc.txt')\n",
    "print(f.read())\n",
    "f.close()"
   ]
  },
  {
   "cell_type": "markdown",
   "metadata": {},
   "source": [
    "### 02) WAP to print program it self on console."
   ]
  },
  {
   "cell_type": "code",
   "execution_count": null,
   "metadata": {},
   "outputs": [],
   "source": [
    "with open('Python Programming - Lab - 8.ipynb') as f:\n",
    "    print(f.read())\n"
   ]
  },
  {
   "cell_type": "markdown",
   "metadata": {},
   "source": [
    "### 03) WAP to read first 5 lines from the file named abc.txt"
   ]
  },
  {
   "cell_type": "code",
   "execution_count": null,
   "metadata": {},
   "outputs": [],
   "source": [
    "with open('abc.txt') as f:\n",
    "    for i in range(int(input(\"Enter a number \"))):\n",
    "        print(f.readline(),end='')"
   ]
  },
  {
   "cell_type": "markdown",
   "metadata": {},
   "source": [
    "### 04) WAP to find the longest word in a file named abc.txt"
   ]
  },
  {
   "cell_type": "code",
   "execution_count": null,
   "metadata": {},
   "outputs": [],
   "source": [
    "with open('abc.txt') as f:\n",
    "    print(max(f.read().split(),key=len))\n"
   ]
  },
  {
   "cell_type": "markdown",
   "metadata": {},
   "source": [
    "### 05) WAP to find the size of the file named abc.txt"
   ]
  },
  {
   "cell_type": "code",
   "execution_count": null,
   "metadata": {},
   "outputs": [],
   "source": [
    "import os\n",
    "file_stat = os.stat('abc.txt')\n",
    "print(f'size of file Bytes : {file_stat.st_size}')\n",
    "print(f'size of file KiloBytes : {file_stat.st_size / 1024 }')\n",
    "print(f'size of file MegaBytes : {file_stat.st_size / 1024 / 1024}')"
   ]
  },
  {
   "cell_type": "markdown",
   "metadata": {},
   "source": [
    "### 06) WAP to implement search function to search specific occurance of word in a given text file."
   ]
  },
  {
   "cell_type": "code",
   "execution_count": null,
   "metadata": {},
   "outputs": [],
   "source": [
    "with open('abc.txt') as f:\n",
    "    word  = input(\"Enter the word you want to search \").strip()\n",
    "    print(f'abc.txt has word {word} {f.read().split().count(word)} times ')"
   ]
  },
  {
   "cell_type": "markdown",
   "metadata": {},
   "source": [
    "# B"
   ]
  },
  {
   "cell_type": "markdown",
   "metadata": {},
   "source": [
    "### 01) WAP to write first 100 prime numbers to a file named primenumbers.txt \n",
    "(Note: each number should be in new line)"
   ]
  },
  {
   "cell_type": "code",
   "execution_count": null,
   "metadata": {},
   "outputs": [],
   "source": [
    "# with open('primenumbers','w')as f:\n",
    "from sympy import prime\n",
    "with open('primenumbers','w') as f:\n",
    "    for i in range(1,101):\n",
    "        f.write(f'{prime(i)} \\n')\n"
   ]
  },
  {
   "cell_type": "markdown",
   "metadata": {},
   "source": [
    "### 02) WAP to merge two files and write it in a new file."
   ]
  },
  {
   "cell_type": "code",
   "execution_count": null,
   "metadata": {},
   "outputs": [],
   "source": [
    "with open('abc3.txt','w') as f:\n",
    "    f1 = open('abc.txt').read()\n",
    "    f2 = open('abc2.txt').read()\n",
    "    f.write(f1 + '\\n'+ f2)"
   ]
  },
  {
   "cell_type": "markdown",
   "metadata": {},
   "source": [
    "### 03) WAP to encrypt a text file."
   ]
  },
  {
   "cell_type": "code",
   "execution_count": 134,
   "metadata": {},
   "outputs": [
    {
     "name": "stdout",
     "output_type": "stream",
     "text": [
      "['sr    name     amount  \\n', '1    ramesh     10000  \\n', '2    kamlesh     2000  \\n', '3    paresh     3000  \\n', '4    suresh     40000  \\n', '5    mahesh     5000  ']\n"
     ]
    }
   ],
   "source": [
    "from random import randrange\n",
    "\n",
    "\n",
    "with open(\"abc.txt\",\"r+\") as f:\n",
    "    temp_list = f.readlines()\n",
    "    print(temp_list)\n",
    "    f.seek(0)\n",
    "    for i in temp_list:\n",
    "        for j in i.split():\n",
    "            if len(j)<3:\n",
    "                f.write(j[::-1] + '  ')\n",
    "            else:\n",
    "                temp_str = chr(randrange(48,58)) + j[1:] + j[0] + chr(randrange(65,122)) + '   '\n",
    "                f.write(temp_str)\n",
    "        f.write(\"\\n\")"
   ]
  },
  {
   "cell_type": "markdown",
   "metadata": {},
   "source": [
    "### 04) WAP to decrypt a previously encrypted file."
   ]
  },
  {
   "cell_type": "code",
   "execution_count": 135,
   "metadata": {},
   "outputs": [
    {
     "name": "stdout",
     "output_type": "stream",
     "text": [
      "['rs  5amenA   3mountaO   \\n', '1  1ameshrc   400001S   \\n', '2  9amleshkN   20002N   \\n', '3  0areshpZ   50003y   \\n', '4  9ureshsv   800004M   \\n', '5  3aheshmw   80005m   \\n']\n"
     ]
    }
   ],
   "source": [
    "with open(\"abc.txt\",\"r+\") as f:\n",
    "    temp_list = f.readlines()\n",
    "    print(temp_list)\n",
    "    f.seek(0)\n",
    "    for i in temp_list:\n",
    "        for j in i.split():\n",
    "            if len(j)<3:\n",
    "                f.write(j[::-1] + ' ')\n",
    "            else:\n",
    "                f.write('   '+ j[-2] + j[1:-2] + '   ')\n",
    "        f.write(\"\\n\")"
   ]
  },
  {
   "cell_type": "markdown",
   "metadata": {},
   "source": [
    "### 05) WAP to remove a word from text file."
   ]
  },
  {
   "cell_type": "code",
   "execution_count": null,
   "metadata": {},
   "outputs": [],
   "source": [
    "with open('abc3.txt','r+') as f:\n",
    "    temp_list = f.readlines()\n",
    "    f.seek(0)\n",
    "    word = input(\"Enter a word to remove\").strip()\n",
    "    for i in temp_list:\n",
    "        f.write(i.replace(word,\"\"))"
   ]
  }
 ],
 "metadata": {
  "kernelspec": {
   "display_name": "Python 3",
   "language": "python",
   "name": "python3"
  },
  "language_info": {
   "codemirror_mode": {
    "name": "ipython",
    "version": 3
   },
   "file_extension": ".py",
   "mimetype": "text/x-python",
   "name": "python",
   "nbconvert_exporter": "python",
   "pygments_lexer": "ipython3",
   "version": "3.11.0 (main, Oct 24 2022, 18:26:48) [MSC v.1933 64 bit (AMD64)]"
  },
  "vscode": {
   "interpreter": {
    "hash": "7906970c21a37aad23281fb4e04ffc671ef41eb2380e1c3bdf2de73fda28b099"
   }
  }
 },
 "nbformat": 4,
 "nbformat_minor": 4
}
