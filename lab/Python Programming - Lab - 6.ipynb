{
 "cells": [
  {
   "attachments": {},
   "cell_type": "markdown",
   "metadata": {},
   "source": [
    "<a href='https://www.darshan.ac.in/'> <img src='https://www.darshan.ac.in/Content/media/DU_Logo.svg' width=\"250\" height=\"300\"/></a>\n",
    "<pre>\n",
    "<center><b><h1>Python Programming - 2101CS405</b></center>\n",
    "<center><b><h1>Lab - 6</b></center>    \n",
    "<pre>"
   ]
  },
  {
   "cell_type": "markdown",
   "metadata": {},
   "source": [
    "# Tuples, dictionary, set"
   ]
  },
  {
   "cell_type": "markdown",
   "metadata": {},
   "source": [
    "# A"
   ]
  },
  {
   "cell_type": "markdown",
   "metadata": {},
   "source": [
    "### 01) WAP to sort python dictionary by key or value."
   ]
  },
  {
   "cell_type": "code",
   "execution_count": null,
   "metadata": {},
   "outputs": [],
   "source": [
    "dictionary = {\"c\":7,\"b\":9,\"a\":8}\n",
    "print(\"sorted by key :\",sorted(dictionary.items(),key=lambda x :x[0]))\n",
    "print(\"sorted by items  :\",sorted(dictionary.items(),key=lambda x :x[1]))"
   ]
  },
  {
   "cell_type": "markdown",
   "metadata": {},
   "source": [
    "### 02) WAP to merge two dictionaries given by user."
   ]
  },
  {
   "cell_type": "code",
   "execution_count": null,
   "metadata": {},
   "outputs": [],
   "source": [
    "dict1 = {}\n",
    "dict2 = {}\n",
    "\n",
    "for i in range(int(input(\"Enter the length of the first dictionary \"))):\n",
    "    temp = input(\"Enter key \")\n",
    "    dict1[temp] = input(\"Enter value\")\n",
    "\n",
    "for i in range(int(input(\"Enter the length of the second dictionary \"))):\n",
    "    temp = input(\"Enter key \")\n",
    "    dict2[temp] = input(\"Enter value\")\n",
    "dict1.update(dict2)\n",
    "print(dict1)"
   ]
  },
  {
   "cell_type": "markdown",
   "metadata": {},
   "source": [
    "### 03) WAP to find tuples that have all elements divisible by K from a list of tuples."
   ]
  },
  {
   "cell_type": "code",
   "execution_count": null,
   "metadata": {},
   "outputs": [],
   "source": [
    "tuple_list = [(1,2,3,4),(2,4,6,8),(1,2,3,4,5),(1,3,5,7,9)]\n",
    "n = int(input(\"Enter a number \"))\n",
    "\n",
    "def check(my_tuple):\n",
    "    for j in my_tuple:\n",
    "        if(j%n!=0):\n",
    "            return False\n",
    "    return True\n",
    "\n",
    "print(list(filter(check,tuple_list)))"
   ]
  },
  {
   "cell_type": "markdown",
   "metadata": {},
   "source": [
    "### 04) WAP to find Tuples with positive elements in List of tuples."
   ]
  },
  {
   "cell_type": "code",
   "execution_count": null,
   "metadata": {},
   "outputs": [],
   "source": [
    "tuple_list = [(1,2,3,4),(2,4,-6,8),(1,2,3,4,5),(1,3,5,-7,9)]\n",
    "\n",
    "def check(my_tuple):\n",
    "    for j in my_tuple:\n",
    "        if(j<0):\n",
    "            return False\n",
    "    return True\n",
    "\n",
    "print(list(filter(check,tuple_list)))"
   ]
  },
  {
   "cell_type": "markdown",
   "metadata": {},
   "source": [
    "### 05) WAP which perform union of two sets."
   ]
  },
  {
   "cell_type": "code",
   "execution_count": null,
   "metadata": {},
   "outputs": [],
   "source": [
    "set1 = {1,2,3,4,5}\n",
    "set2 = {2,3,4,5,6}\n",
    "print(set1.union(set2))"
   ]
  },
  {
   "cell_type": "markdown",
   "metadata": {},
   "source": [
    "# B"
   ]
  },
  {
   "cell_type": "markdown",
   "metadata": {},
   "source": [
    "### 01) WAP to convert binary tuple into integer."
   ]
  },
  {
   "cell_type": "code",
   "execution_count": null,
   "metadata": {},
   "outputs": [],
   "source": [
    "my_tuple =  (\"1\",\"0\",\"1\",\"0\")\n",
    "print(int(''.join(my_tuple),2))"
   ]
  },
  {
   "cell_type": "markdown",
   "metadata": {},
   "source": [
    "### 02) WAP to count frequency in list by dictionary."
   ]
  },
  {
   "cell_type": "code",
   "execution_count": null,
   "metadata": {},
   "outputs": [],
   "source": [
    "my_list = ['a','b','c','a','b','a']\n",
    "my_dictionary = {}\n",
    "for i in my_list:\n",
    "    if(i not in my_dictionary):\n",
    "        my_dictionary[i] = 1\n",
    "    else :\n",
    "        my_dictionary[i] +=1\n",
    "\n",
    "print(my_dictionary)"
   ]
  },
  {
   "cell_type": "markdown",
   "metadata": {},
   "source": [
    "### 03) WAP to remove all the duplicate words from the list using dictionary."
   ]
  },
  {
   "cell_type": "code",
   "execution_count": 159,
   "metadata": {},
   "outputs": [
    {
     "name": "stdout",
     "output_type": "stream",
     "text": [
      "[1, 2, 3, 4]\n"
     ]
    }
   ],
   "source": [
    "my_list = [1,1,1,2,2,3,4,4,3,3]\n",
    "new_list = list(dict.fromkeys(my_list))\n",
    "print(new_list)\n"
   ]
  }
 ],
 "metadata": {
  "kernelspec": {
   "display_name": "Python 3",
   "language": "python",
   "name": "python3"
  },
  "language_info": {
   "codemirror_mode": {
    "name": "ipython",
    "version": 3
   },
   "file_extension": ".py",
   "mimetype": "text/x-python",
   "name": "python",
   "nbconvert_exporter": "python",
   "pygments_lexer": "ipython3",
   "version": "3.11.0"
  },
  "vscode": {
   "interpreter": {
    "hash": "7906970c21a37aad23281fb4e04ffc671ef41eb2380e1c3bdf2de73fda28b099"
   }
  }
 },
 "nbformat": 4,
 "nbformat_minor": 4
}
