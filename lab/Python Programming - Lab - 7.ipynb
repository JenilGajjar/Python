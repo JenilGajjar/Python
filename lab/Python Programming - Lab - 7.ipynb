{
 "cells": [
  {
   "cell_type": "markdown",
   "metadata": {},
   "source": [
    "<a href='https://www.darshan.ac.in/'> <img src='https://www.darshan.ac.in/Content/media/DU_Logo.svg' width=\"250\" height=\"300\"/></a>\n",
    "<pre>\n",
    "<center><b><h1>Python Programming - 2101CS405</b></center>\n",
    "<center><b><h1>Lab - 7</b></center>    \n",
    "<pre>"
   ]
  },
  {
   "cell_type": "markdown",
   "metadata": {},
   "source": [
    "# Functions"
   ]
  },
  {
   "cell_type": "markdown",
   "metadata": {},
   "source": [
    "### 01) WAP to count simple interest using function."
   ]
  },
  {
   "cell_type": "code",
   "execution_count": null,
   "metadata": {},
   "outputs": [],
   "source": [
    "interest = lambda principal,rate,year:(principal * rate * year)/100\n",
    "\n",
    "principal = float(input(\"Enter Principal \"))\n",
    "rate = float(input(\"Enter Rate \"))\n",
    "year = float(input(\"Enter Year \"))\n",
    "print(f'simple interest : {interest(principal=principal,year=year,rate=rate)}')"
   ]
  },
  {
   "cell_type": "markdown",
   "metadata": {},
   "source": [
    "### 02) WAP that defines a function to add first n numbers."
   ]
  },
  {
   "cell_type": "code",
   "execution_count": null,
   "metadata": {},
   "outputs": [],
   "source": [
    "def add(n):\n",
    "    sum_of_n =0\n",
    "    for i in range(1,n+1):\n",
    "        sum_of_n+=i\n",
    "    return sum_of_n\n",
    "n = int(input(\"Enter a number \"))\n",
    "print(add(n))"
   ]
  },
  {
   "cell_type": "markdown",
   "metadata": {},
   "source": [
    "### 03) WAP to find maximum number from given two numbers using function."
   ]
  },
  {
   "cell_type": "code",
   "execution_count": null,
   "metadata": {},
   "outputs": [],
   "source": [
    "maximum = lambda a,b :a if a>b else b\n",
    "num1 = int(input(\"Enter number 1 \"))\n",
    "num2 = int(input(\"Enter number 2 \"))\n",
    "print(f'Maximum number between {num1} and {num2} is {maximum(num1,num2)}')"
   ]
  },
  {
   "cell_type": "markdown",
   "metadata": {},
   "source": [
    "### 04) WAP that defines a function which returns 1 if the number is prime otherwise return 0."
   ]
  },
  {
   "cell_type": "code",
   "execution_count": null,
   "metadata": {},
   "outputs": [],
   "source": [
    "def is_prime(n):\n",
    "    for i in range(2,int(n**0.5)+1):\n",
    "        if(n%i==0):\n",
    "            return False\n",
    "    return True\n",
    "n = int(input(\"Enter a number \"))\n",
    "print(is_prime(n))"
   ]
  },
  {
   "cell_type": "markdown",
   "metadata": {},
   "source": [
    "### 05) Write a function called primes that takes an integer value as an argument and returns a list of all prime numbers up to that number."
   ]
  },
  {
   "cell_type": "code",
   "execution_count": null,
   "metadata": {},
   "outputs": [],
   "source": [
    "n = int(input(\"Enter a number \"))\n",
    "print([j for j in range(2,n+1) if is_prime(j)])"
   ]
  },
  {
   "cell_type": "code",
   "execution_count": null,
   "metadata": {},
   "outputs": [],
   "source": [
    "def fibbo(n):\n",
    "    list_fibbo = [i for i in range(n)]\n",
    "    for i in range(2,n):\n",
    "        list_fibbo[i] = list_fibbo[i-1] + list_fibbo[i-2]\n",
    "    return list_fibbo\n",
    "n = int(input(\"Enter a number \"))\n",
    "print(fibbo(n))\n"
   ]
  },
  {
   "cell_type": "markdown",
   "metadata": {},
   "source": [
    "### 07) WAP to find the factorial of a given number using recursion."
   ]
  },
  {
   "cell_type": "code",
   "execution_count": null,
   "metadata": {},
   "outputs": [],
   "source": [
    "facotorial = lambda n : 1 if(n in [0,1]) else n*facotorial(n-1)\n",
    "print(facotorial(int(input(\"Enter a number \"))))"
   ]
  },
  {
   "cell_type": "markdown",
   "metadata": {},
   "source": [
    "### 08) WAP to implement simple calculator using lamda function."
   ]
  },
  {
   "cell_type": "code",
   "execution_count": null,
   "metadata": {},
   "outputs": [],
   "source": [
    "num1 = int(input(\"Enter number 1\"))\n",
    "num2 = int(input(\"Enter number 2\"))\n",
    "\n",
    "calc = lambda a,b,op: a+b if(op=='+') else (a-b) if (op=='-') else a*b if(op=='*') else round(a/b,2)\n",
    "\n",
    "print(f'{num1} + {num2} : {calc(num1,num2,\"+\")}')\n",
    "print(f'{num1} - {num2} : {calc(num1,num2,\"-\")}')\n",
    "print(f'{num1} / {num2} : {calc(num1,num2,\"/\")}')\n",
    "print(f'{num1} * {num2} : {calc(num1,num2,\"*\")}')"
   ]
  },
  {
   "cell_type": "markdown",
   "metadata": {},
   "source": [
    "### 09)Write a Python program that accepts a hyphen-separated sequence of words as input and prints the words in a hyphen-separated sequence after sorting them alphabetically\n",
    "Sample Items : green-red-yellow-black-white <br>\n",
    "Expected Result : black-green-red-white-yellow"
   ]
  },
  {
   "cell_type": "code",
   "execution_count": null,
   "metadata": {},
   "outputs": [],
   "source": [
    "list_sequence = input(\"Enter a string \").split('-')\n",
    "list_sequence.sort()\n",
    "\"-\".join(list_sequence)"
   ]
  },
  {
   "cell_type": "markdown",
   "metadata": {},
   "source": [
    "### 10) Write a python program to implement all function arguments type\n",
    "Positional arguments <Br>\n",
    "Default argument <Br>\n",
    "Keyword arguments (named arguments) <Br>\n",
    "Arbitrary arguments (variable-length arguments args and kwargs)"
   ]
  },
  {
   "cell_type": "code",
   "execution_count": null,
   "metadata": {},
   "outputs": [],
   "source": [
    "def positional_add(a,b):return a+b\n",
    "def default_add(a=1,b=0):return a+b\n",
    "def keyword_add(a,b):return a+b\n",
    "def arbitary_positional_add(*args):\n",
    "    sum_of_numbers = 0\n",
    "    for i in args:sum_of_numbers+=i\n",
    "    return sum_of_numbers\n",
    "def arbitary_keyword_add(**kwargs):\n",
    "    sum_in_dictionary = 0\n",
    "    for i in kwargs.values():sum_in_dictionary+=i\n",
    "    return  sum_in_dictionary\n",
    "\n",
    "print(positional_add(1,2))\n",
    "print(default_add(1))\n",
    "print(keyword_add(b=1,a=4))\n",
    "print(arbitary_positional_add(1,2,3,4,5,6))\n",
    "print(arbitary_keyword_add(a=1,b=2,c=3,d=4,e=5,f=6))"
   ]
  },
  {
   "cell_type": "markdown",
   "metadata": {},
   "source": [
    "### 01) WAP to calculate power of a number using recursion."
   ]
  },
  {
   "cell_type": "code",
   "execution_count": null,
   "metadata": {},
   "outputs": [],
   "source": [
    "def rpower(number,power):\n",
    "    if(power==0):return 1\n",
    "    return number * rpower(number,power-1)\n",
    "print(rpower(int(input(\"Enter a number \")),int(input(\"Enter power \"))))"
   ]
  },
  {
   "cell_type": "markdown",
   "metadata": {},
   "source": [
    "### 02) WAP to count digits of a number using recursion."
   ]
  },
  {
   "cell_type": "code",
   "execution_count": null,
   "metadata": {},
   "outputs": [],
   "source": [
    "from math import log10,floor\n",
    "def rcount_digits(number):\n",
    "    if(number//10==0) : return 1\n",
    "    return 1 + rcount_digits(number//10)\n",
    "print(\"number of digits \",rcount_digits(int(input(\"Enter a number \"))))"
   ]
  },
  {
   "cell_type": "markdown",
   "metadata": {},
   "source": [
    "### 03) WAP to reverse an integer number using recursion."
   ]
  },
  {
   "cell_type": "code",
   "execution_count": null,
   "metadata": {},
   "outputs": [],
   "source": [
    "def  reverse_number(n):\n",
    "    if(n//10==0) :return n\n",
    "    return n%10 * 10**len(str(n//10)) + reverse_number(n//10)\n",
    "\n",
    "reverse_num = 0 \n",
    "def rreverse(n):\n",
    "    global reverse_num\n",
    "    if(n>0):\n",
    "        reverse_num =  reverse_num * 10 + n%10\n",
    "        rreverse(n//10)\n",
    "    return reverse_num\n",
    "\n",
    "n = int(input(\"Enter a number \"))\n",
    "print(f'Reverse of {n} is {reverse_number(n)}')\n",
    "print(f'Reverse of {n} is {rreverse(n)}')"
   ]
  },
  {
   "cell_type": "markdown",
   "metadata": {},
   "source": [
    "### 04) WAP to convert decimal number into binary using recursion."
   ]
  },
  {
   "cell_type": "code",
   "execution_count": 95,
   "metadata": {},
   "outputs": [
    {
     "name": "stdout",
     "output_type": "stream",
     "text": [
      "binary of 21 is 10101\n"
     ]
    }
   ],
   "source": [
    "def  decimal_to_binary(n):\n",
    "    if(n==0):return 0\n",
    "    return  10 * decimal_to_binary(n//2) + (n%2) \n",
    "n = int(input(\"Enter a number \"))\n",
    "print(f\"binary of {n} is {decimal_to_binary(n)}\")"
   ]
  }
 ],
 "metadata": {
  "kernelspec": {
   "display_name": "Python 3",
   "language": "python",
   "name": "python3"
  },
  "language_info": {
   "codemirror_mode": {
    "name": "ipython",
    "version": 3
   },
   "file_extension": ".py",
   "mimetype": "text/x-python",
   "name": "python",
   "nbconvert_exporter": "python",
   "pygments_lexer": "ipython3",
   "version": "3.11.0 (main, Oct 24 2022, 18:26:48) [MSC v.1933 64 bit (AMD64)]"
  },
  "vscode": {
   "interpreter": {
    "hash": "7906970c21a37aad23281fb4e04ffc671ef41eb2380e1c3bdf2de73fda28b099"
   }
  }
 },
 "nbformat": 4,
 "nbformat_minor": 4
}
