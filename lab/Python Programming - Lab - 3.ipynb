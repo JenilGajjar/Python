{
 "cells": [
  {
   "cell_type": "markdown",
   "metadata": {},
   "source": [
    "\n",
    "<a href='https://www.darshan.ac.in/'> <img src='https://www.darshan.ac.in/Content/media/DU_Logo.svg' width=\"250\" height=\"300\"/></a>\n",
    "<pre>\n",
    "<center><b><h1>Python Programming - 2101CS405</b></center>\n",
    "<center><b><h1>Lab - 3</b></center>    \n",
    "<pre>"
   ]
  },
  {
   "cell_type": "markdown",
   "metadata": {},
   "source": [
    "# for and while loop"
   ]
  },
  {
   "cell_type": "markdown",
   "metadata": {},
   "source": [
    "### 01) WAP to print 1 to 10"
   ]
  },
  {
   "cell_type": "code",
   "execution_count": 91,
   "metadata": {},
   "outputs": [
    {
     "name": "stdout",
     "output_type": "stream",
     "text": [
      "1 2 3 4 5 6 7 8 9 10 "
     ]
    }
   ],
   "source": [
    "for i in range(10):\n",
    "    print(i+1,end =\" \")"
   ]
  },
  {
   "cell_type": "markdown",
   "metadata": {},
   "source": [
    "### 02) WAP to print 1 to n"
   ]
  },
  {
   "cell_type": "code",
   "execution_count": 1,
   "metadata": {},
   "outputs": [
    {
     "name": "stdout",
     "output_type": "stream",
     "text": [
      "1 2 3 4 5 "
     ]
    }
   ],
   "source": [
    "n = int(input(\"Enter a number \"))\n",
    "for i in range(1,n+1):\n",
    "    print(i,end=' ')"
   ]
  },
  {
   "cell_type": "markdown",
   "metadata": {},
   "source": [
    "### 03) WAP to print odd numbers between 1 to n"
   ]
  },
  {
   "cell_type": "code",
   "execution_count": null,
   "metadata": {},
   "outputs": [
    {
     "name": "stdout",
     "output_type": "stream",
     "text": [
      "Enter a number 10\n",
      "1 3 5 7 9 "
     ]
    }
   ],
   "source": [
    "n = int(input(\"Enter a number \"))\n",
    "for i in range(1,n+1,2):\n",
    "    print(i,end=' ')"
   ]
  },
  {
   "cell_type": "markdown",
   "metadata": {},
   "source": [
    "### 04) WAP to print numbers between two given numbers which is divisible by 2 but not divisible by 3"
   ]
  },
  {
   "cell_type": "code",
   "execution_count": null,
   "metadata": {},
   "outputs": [
    {
     "name": "stdout",
     "output_type": "stream",
     "text": [
      "2 4 8 10 14 16 20 22 26 28 32 34 38 40 44 46 50 52 56 58 62 64 68 70 74 76 80 82 86 88 92 94 98 "
     ]
    }
   ],
   "source": [
    "first = int(input(\"Enter first number \"))\n",
    "second = int(input(\"Enter second number \"))\n",
    "\n",
    "if(first>second):\n",
    "    first,second = second,first\n",
    "\n",
    "i = first +1\n",
    "while(i<second):\n",
    "    if(i%2==0 and i%3!=0):\n",
    "        print(i,end=' ')\n",
    "    i+=1"
   ]
  },
  {
   "cell_type": "markdown",
   "metadata": {},
   "source": [
    "### 05) WAP to print sum of 1 to n numbers"
   ]
  },
  {
   "cell_type": "code",
   "execution_count": null,
   "metadata": {},
   "outputs": [
    {
     "name": "stdout",
     "output_type": "stream",
     "text": [
      "Enter a number 10\n",
      "sum of 1 to 10 is 55\n"
     ]
    }
   ],
   "source": [
    "n = int(input(\"Enter a number \"))\n",
    "\n",
    "i = 0\n",
    "sum = 0 \n",
    "while(i<=n):\n",
    "    sum+=i\n",
    "    i+=1\n",
    "print(\"sum of\",1,\"to\",n,\"is\",sum)"
   ]
  },
  {
   "cell_type": "markdown",
   "metadata": {},
   "source": [
    "### 06) WAP to print sum of series 1 + 4 + 9 + 16 + 25 + 36 + ...n"
   ]
  },
  {
   "cell_type": "code",
   "execution_count": null,
   "metadata": {},
   "outputs": [
    {
     "name": "stdout",
     "output_type": "stream",
     "text": [
      "Enter a number 10\n",
      "1 4 9 16 25 36 49 64 81 100 "
     ]
    }
   ],
   "source": [
    "n = int(input(\"Enter a number \"))\n",
    "\n",
    "i = 1\n",
    "while i<=n:\n",
    "    print(i*i,end = ' ')\n",
    "    i+=1"
   ]
  },
  {
   "cell_type": "markdown",
   "metadata": {},
   "source": [
    "### 07) WAP to print sum of series 1 – 2 + 3 – 4 + 5 – 6 + 7 ... n"
   ]
  },
  {
   "cell_type": "code",
   "execution_count": null,
   "metadata": {},
   "outputs": [
    {
     "name": "stdout",
     "output_type": "stream",
     "text": [
      "Enter a number 6\n",
      "Answer :  -3\n"
     ]
    }
   ],
   "source": [
    "n = int(input(\"Enter a number \"))\n",
    "\n",
    "i = 1\n",
    "sum = 0\n",
    "while i<=n:\n",
    "    \n",
    "    if(i%2!=0):\n",
    "        sum+=i\n",
    "    else:\n",
    "        sum-=i\n",
    "    i+=1\n",
    "print(\"Answer : \",sum)"
   ]
  },
  {
   "cell_type": "markdown",
   "metadata": {},
   "source": [
    "### 08) WAP to print multiplication table of given number."
   ]
  },
  {
   "cell_type": "code",
   "execution_count": null,
   "metadata": {},
   "outputs": [
    {
     "name": "stdout",
     "output_type": "stream",
     "text": [
      "Enter a number 10\n",
      "10 X 1 = 10\n",
      "10 X 2 = 20\n",
      "10 X 3 = 30\n",
      "10 X 4 = 40\n",
      "10 X 5 = 50\n",
      "10 X 6 = 60\n",
      "10 X 7 = 70\n",
      "10 X 8 = 80\n",
      "10 X 9 = 90\n",
      "10 X 10 = 100\n"
     ]
    }
   ],
   "source": [
    "n = int(input(\"Enter a number \"))\n",
    "\n",
    "i = 1\n",
    "while i<=n:\n",
    "    print(n,'X',i,'=',n*i)\n",
    "    i+=1"
   ]
  },
  {
   "cell_type": "markdown",
   "metadata": {},
   "source": [
    "### 09) WAP to find factorial of the given number"
   ]
  },
  {
   "cell_type": "code",
   "execution_count": null,
   "metadata": {},
   "outputs": [
    {
     "name": "stdout",
     "output_type": "stream",
     "text": [
      "Enter a number 5\n",
      "factorial of 5 is 120\n"
     ]
    }
   ],
   "source": [
    "n = int(input(\"Enter a number \"))\n",
    "\n",
    "i = 1\n",
    "fact = 1\n",
    "while i<=n:\n",
    "    fact*=i\n",
    "    i+=1\n",
    "print(\"factorial of\",n,\"is\",fact)"
   ]
  },
  {
   "cell_type": "markdown",
   "metadata": {},
   "source": [
    "### 10) WAP to find factors of the given number"
   ]
  },
  {
   "cell_type": "code",
   "execution_count": null,
   "metadata": {},
   "outputs": [
    {
     "name": "stdout",
     "output_type": "stream",
     "text": [
      "1 2 4 5 10 20 "
     ]
    }
   ],
   "source": [
    "n = int(input(\"Enter a number \"))\n",
    "\n",
    "i = 1\n",
    "while i<=n:\n",
    "    if(n%i==0):\n",
    "        print(i,end=' ')\n",
    "    i+=1"
   ]
  },
  {
   "attachments": {},
   "cell_type": "markdown",
   "metadata": {},
   "source": [
    "11) WAP to find whether the given number is prime or not."
   ]
  },
  {
   "cell_type": "code",
   "execution_count": 20,
   "metadata": {},
   "outputs": [
    {
     "name": "stdout",
     "output_type": "stream",
     "text": [
      "15 isn't a prime number\n"
     ]
    }
   ],
   "source": [
    "n = int(input(\"Enter a number \"))\n",
    "\n",
    "for i in range(2,n):\n",
    "    if(n%i==0):\n",
    "        print(n,\"isn't a prime number\") \n",
    "        break\n",
    "else:\n",
    "    print(n,\"is a prime number\")"
   ]
  },
  {
   "cell_type": "markdown",
   "metadata": {},
   "source": [
    "### 12) WAP to print sum of digits of given number"
   ]
  },
  {
   "cell_type": "code",
   "execution_count": null,
   "metadata": {},
   "outputs": [
    {
     "name": "stdout",
     "output_type": "stream",
     "text": [
      "sum of digits of 246 is 12\n"
     ]
    }
   ],
   "source": [
    "n = int(input(\"Enter a number \"))\n",
    "temp = n\n",
    "sum = 0\n",
    "while n!=0:\n",
    "    sum+=n % 10\n",
    "    n //=10\n",
    "\n",
    "print(\"sum of digits of\",temp,\"is\",sum)"
   ]
  },
  {
   "cell_type": "markdown",
   "metadata": {},
   "source": [
    "### 13) WAP to check whether the given number is palindrome or not"
   ]
  },
  {
   "cell_type": "code",
   "execution_count": null,
   "metadata": {},
   "outputs": [
    {
     "name": "stdout",
     "output_type": "stream",
     "text": [
      "232 is a palindrome number\n"
     ]
    }
   ],
   "source": [
    "n = int(input(\"Enter a number \"))\n",
    "temp = n\n",
    "a = 0\n",
    "while n!=0:\n",
    "    a = a *10 + n%10\n",
    "    n//=10\n",
    "\n",
    "print(temp,\"is a palindrome number\") if a==temp else print(temp,\"is not a palindrome number\")"
   ]
  },
  {
   "cell_type": "markdown",
   "metadata": {},
   "source": [
    "### 01) WAP to check whether the given number is Armstrong or not."
   ]
  },
  {
   "cell_type": "code",
   "execution_count": null,
   "metadata": {},
   "outputs": [
    {
     "name": "stdout",
     "output_type": "stream",
     "text": [
      "answer 17\n",
      "122 is not an armstring number\n"
     ]
    }
   ],
   "source": [
    "n = int(input(\"Ente a number\"))\n",
    "temp = n\n",
    "length_of_n =len(str(n))\n",
    "sum_of_digits = 0 \n",
    "\n",
    "while (n!=0):\n",
    "    sum_of_digits+= (n%10) ** length_of_n\n",
    "    n//=10\n",
    "\n",
    "print(temp,\"is an armstrong number\") if sum_of_digits==temp else print(temp,\"is not an armstring number\")"
   ]
  },
  {
   "attachments": {},
   "cell_type": "markdown",
   "metadata": {},
   "source": [
    "02) WAP to find out prime numbers between given two numbers."
   ]
  },
  {
   "cell_type": "code",
   "execution_count": 15,
   "metadata": {},
   "outputs": [
    {
     "name": "stdout",
     "output_type": "stream",
     "text": [
      "2 3 5 7 11 13 17 19 23 29 31 37 41 43 47 53 59 61 67 71 73 79 83 89 97 "
     ]
    }
   ],
   "source": [
    "start = int(input(\"Enter first number \"))\n",
    "end = int(input(\"Enter second number \"))\n",
    "\n",
    "if(start>end):start,end = end,start\n",
    "\n",
    "for n in range(start+1,end):\n",
    "    for i in range(2,int(n**0.5)+1):\n",
    "        if(n % i==0):break\n",
    "    else :print(n,end=' ')\n"
   ]
  },
  {
   "cell_type": "markdown",
   "metadata": {},
   "source": [
    "### 03) WAP to calculate x^y without using any function."
   ]
  },
  {
   "cell_type": "code",
   "execution_count": null,
   "metadata": {},
   "outputs": [
    {
     "name": "stdout",
     "output_type": "stream",
     "text": [
      "2 ^ 3 : 8\n"
     ]
    }
   ],
   "source": [
    "first = int(input(\"Enter a number \"))\n",
    "second = int(input(\"Enter a number \"))\n",
    "power = 1\n",
    "for i in range(1,second+1):power*=first\n",
    "print(first,\"^\",second,\":\",power)"
   ]
  },
  {
   "cell_type": "markdown",
   "metadata": {},
   "source": [
    "### 04) WAP to check whether the given number is perfect or not.\n",
    "[Sum of factors including 1 excluding number itself]"
   ]
  },
  {
   "cell_type": "code",
   "execution_count": null,
   "metadata": {},
   "outputs": [
    {
     "name": "stdout",
     "output_type": "stream",
     "text": [
      "6 is a perfect number\n"
     ]
    }
   ],
   "source": [
    "n = int(input(\"Enter a number \"))\n",
    "temp = n\n",
    "sum_of_digits = 0\n",
    "for i in range(1,n):\n",
    "    if(n%i==0):sum_of_digits+=i\n",
    "print(temp,\"is a perfect number\") if temp == sum_of_digits else print(temp,\"isn't a perfect number\")"
   ]
  },
  {
   "cell_type": "markdown",
   "metadata": {},
   "source": [
    "### 05) WAP to find the sum of 1 + (1+2) + (1+2+3) + (1+2+3+4)+...+(1+2+3+4+....+n)"
   ]
  },
  {
   "cell_type": "code",
   "execution_count": 103,
   "metadata": {},
   "outputs": [
    {
     "name": "stdout",
     "output_type": "stream",
     "text": [
      "20\n"
     ]
    }
   ],
   "source": [
    "n = int(input(\"Enter a number \"))\n",
    "_sum = 0\n",
    "for  i in range(1,n+1):\n",
    "    for j in range(1,i+1):_sum+=j\n",
    "print(_sum)"
   ]
  },
  {
   "cell_type": "markdown",
   "metadata": {},
   "source": [
    "### 06) WAP to print Multiplication Table up to n"
   ]
  },
  {
   "cell_type": "code",
   "execution_count": 112,
   "metadata": {},
   "outputs": [
    {
     "name": "stdout",
     "output_type": "stream",
     "text": [
      "\n",
      "=============== table of 1 ===============\n",
      "               1 X 1 = 1\n",
      "               1 X 2 = 2\n",
      "               1 X 3 = 3\n",
      "               1 X 4 = 4\n",
      "               1 X 5 = 5\n",
      "               1 X 6 = 6\n",
      "               1 X 7 = 7\n",
      "               1 X 8 = 8\n",
      "               1 X 9 = 9\n",
      "               1 X 10 = 10\n",
      "\n",
      "=============== table of 2 ===============\n",
      "               2 X 1 = 2\n",
      "               2 X 2 = 4\n",
      "               2 X 3 = 6\n",
      "               2 X 4 = 8\n",
      "               2 X 5 = 10\n",
      "               2 X 6 = 12\n",
      "               2 X 7 = 14\n",
      "               2 X 8 = 16\n",
      "               2 X 9 = 18\n",
      "               2 X 10 = 20\n",
      "\n",
      "=============== table of 3 ===============\n",
      "               3 X 1 = 3\n",
      "               3 X 2 = 6\n",
      "               3 X 3 = 9\n",
      "               3 X 4 = 12\n",
      "               3 X 5 = 15\n",
      "               3 X 6 = 18\n",
      "               3 X 7 = 21\n",
      "               3 X 8 = 24\n",
      "               3 X 9 = 27\n",
      "               3 X 10 = 30\n",
      "\n",
      "=============== table of 4 ===============\n",
      "               4 X 1 = 4\n",
      "               4 X 2 = 8\n",
      "               4 X 3 = 12\n",
      "               4 X 4 = 16\n",
      "               4 X 5 = 20\n",
      "               4 X 6 = 24\n",
      "               4 X 7 = 28\n",
      "               4 X 8 = 32\n",
      "               4 X 9 = 36\n",
      "               4 X 10 = 40\n"
     ]
    }
   ],
   "source": [
    "n = int(input(\"Enter a number\"))\n",
    "\n",
    "for i in range(1,n+1):\n",
    "    j = 1\n",
    "    print(\"\\n=============== table of\",i,\"===============\")\n",
    "    while j<=10:\n",
    "        print(\"              \",i,\"X\",j,\"=\",j*i)\n",
    "        j+=1\n",
    "    "
   ]
  }
 ],
 "metadata": {
  "kernelspec": {
   "display_name": "Python 3",
   "language": "python",
   "name": "python3"
  },
  "language_info": {
   "codemirror_mode": {
    "name": "ipython",
    "version": 3
   },
   "file_extension": ".py",
   "mimetype": "text/x-python",
   "name": "python",
   "nbconvert_exporter": "python",
   "pygments_lexer": "ipython3",
   "version": "3.11.0"
  },
  "vscode": {
   "interpreter": {
    "hash": "7906970c21a37aad23281fb4e04ffc671ef41eb2380e1c3bdf2de73fda28b099"
   }
  }
 },
 "nbformat": 4,
 "nbformat_minor": 4
}
