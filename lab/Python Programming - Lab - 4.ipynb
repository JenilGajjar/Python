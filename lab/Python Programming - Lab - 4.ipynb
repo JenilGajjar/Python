{
 "cells": [
  {
   "cell_type": "markdown",
   "metadata": {},
   "source": [
    "\n",
    "<a href='https://www.darshan.ac.in/'> <img src='https://www.darshan.ac.in/Content/media/DU_Logo.svg' width=\"250\" height=\"300\"/></a>\n",
    "<pre>\n",
    "<center><b><h1>Python Programming - 2101CS405</b></center>\n",
    "<center><b><h1>Lab - 4</b></center>    \n",
    "<pre>"
   ]
  },
  {
   "cell_type": "markdown",
   "metadata": {},
   "source": [
    "# String"
   ]
  },
  {
   "cell_type": "markdown",
   "metadata": {},
   "source": [
    "### 01) WAP to check given string is palindrome or not."
   ]
  },
  {
   "cell_type": "code",
   "execution_count": 13,
   "metadata": {},
   "outputs": [
    {
     "name": "stdout",
     "output_type": "stream",
     "text": [
      "abcba abcba\n",
      "abcba is palindrome\n"
     ]
    }
   ],
   "source": [
    "string = input(\"Enter a string \")\n",
    "print(string,string[::-1])\n",
    "if(string == string[::-1]):\n",
    "    print(string,\"is palindrome\")\n",
    "else:\n",
    "    print(string,\"is not palindrome\")"
   ]
  },
  {
   "cell_type": "markdown",
   "metadata": {},
   "source": [
    "### 02) WAP to reverse the words in given string."
   ]
  },
  {
   "cell_type": "code",
   "execution_count": 122,
   "metadata": {},
   "outputs": [
    {
     "name": "stdout",
     "output_type": "stream",
     "text": [
      "gajjar jenil \n"
     ]
    }
   ],
   "source": [
    "string = input(\"Enter a string\")\n",
    "list = string.split(' ')\n",
    "output = \"\"\n",
    "for i in list[::-1]:\n",
    "    output+= i + ' '\n",
    "print(output)"
   ]
  },
  {
   "cell_type": "markdown",
   "metadata": {},
   "source": [
    "### 03) WAP to remove ith character from given string"
   ]
  },
  {
   "cell_type": "code",
   "execution_count": 36,
   "metadata": {},
   "outputs": [
    {
     "name": "stdout",
     "output_type": "stream",
     "text": [
      "abc\n"
     ]
    }
   ],
   "source": [
    "string = input(\"Enter a string \")\n",
    "i = int(input(\"Enter index \"))\n",
    "\n",
    "print(string.replace(string[i],\"\"))"
   ]
  },
  {
   "cell_type": "markdown",
   "metadata": {},
   "source": [
    "### 04) WAP to find length of String without using len function."
   ]
  },
  {
   "cell_type": "code",
   "execution_count": 37,
   "metadata": {},
   "outputs": [
    {
     "name": "stdout",
     "output_type": "stream",
     "text": [
      "12\n"
     ]
    }
   ],
   "source": [
    "string = input(\"Enter a string \")\n",
    "length = 0\n",
    "for i in string:\n",
    "    length+=1\n",
    "print(length)\n"
   ]
  },
  {
   "cell_type": "markdown",
   "metadata": {},
   "source": [
    "### 05) WAP to print even length word in string."
   ]
  },
  {
   "cell_type": "code",
   "execution_count": 39,
   "metadata": {},
   "outputs": [
    {
     "name": "stdout",
     "output_type": "stream",
     "text": [
      "abcd fsasdf "
     ]
    }
   ],
   "source": [
    "string = input(\"Enter a string \")\n",
    "list = string.split(\" \")\n",
    "for i in list:\n",
    "    if len(i) % 2 == 0 :print(i,end=' ')\n"
   ]
  },
  {
   "cell_type": "markdown",
   "metadata": {},
   "source": [
    "### 06) WAP to count numbers of vowels in given string."
   ]
  },
  {
   "cell_type": "code",
   "execution_count": 47,
   "metadata": {},
   "outputs": [
    {
     "name": "stdout",
     "output_type": "stream",
     "text": [
      "1\n"
     ]
    }
   ],
   "source": [
    "string = input(\"Enter a string \")\n",
    "length = 0\n",
    "for i in string:\n",
    "    if i.lower() in ['a','e','i','o','u']:length+=1\n",
    "print(length)\n"
   ]
  },
  {
   "cell_type": "markdown",
   "metadata": {},
   "source": [
    "### 07) WAP to convert given array to string."
   ]
  },
  {
   "cell_type": "code",
   "execution_count": 102,
   "metadata": {},
   "outputs": [
    {
     "name": "stdout",
     "output_type": "stream",
     "text": [
      "abcd efgh hijk \n"
     ]
    }
   ],
   "source": [
    "list = [\"abcd \", \"efgh \", \"hijk \"]\n",
    "string = \"\"\n",
    "print(string.join((list)))"
   ]
  },
  {
   "cell_type": "markdown",
   "metadata": {},
   "source": [
    "### 01) WAP to find out duplicate characters in given string."
   ]
  },
  {
   "cell_type": "code",
   "execution_count": 116,
   "metadata": {},
   "outputs": [
    {
     "name": "stdout",
     "output_type": "stream",
     "text": [
      "{'j': 3, 'a': 2}\n"
     ]
    }
   ],
   "source": [
    "string = input(\"Enter a string \")\n",
    "dictionary = {}\n",
    "for i in string:\n",
    "    if(string.count(i)>1 ):\n",
    "        dictionary[i] = string.count(i)\n",
    "print(dictionary)"
   ]
  },
  {
   "cell_type": "markdown",
   "metadata": {},
   "source": [
    "### 02) WAP to capitalize the first and last character of each word in a string."
   ]
  },
  {
   "cell_type": "code",
   "execution_count": 128,
   "metadata": {},
   "outputs": [
    {
     "data": {
      "text/plain": [
       "'HiT JaviyA '"
      ]
     },
     "execution_count": 128,
     "metadata": {},
     "output_type": "execute_result"
    }
   ],
   "source": [
    "string = input(\"Enter a string \")\n",
    "list = string.split(' ')\n",
    "output = \"\"\n",
    "for i in list:\n",
    "    output +=  i[0].upper() + i[1:len(i)-1] + i[len(i)-1].upper() + ' '\n",
    "print(output)"
   ]
  },
  {
   "cell_type": "markdown",
   "metadata": {},
   "source": [
    "### 03) WAP to find Maximum frequency character in String."
   ]
  },
  {
   "cell_type": "code",
   "execution_count": 8,
   "metadata": {},
   "outputs": [
    {
     "name": "stdout",
     "output_type": "stream",
     "text": [
      "j\n"
     ]
    }
   ],
   "source": [
    "string = input(\"Enter a string \")\n",
    "dictionary = {}\n",
    "for i in string:\n",
    "        dictionary[i] = string.count(i)\n",
    "print(max(dictionary,key=dictionary.get))"
   ]
  },
  {
   "attachments": {},
   "cell_type": "markdown",
   "metadata": {},
   "source": [
    "04) WAP to find Minimum frequency character in String."
   ]
  },
  {
   "cell_type": "code",
   "execution_count": 9,
   "metadata": {},
   "outputs": [
    {
     "name": "stdout",
     "output_type": "stream",
     "text": [
      "1\n"
     ]
    }
   ],
   "source": [
    "string = input(\"Enter a string \")\n",
    "dictionary = {}\n",
    "for i in string:\n",
    "        dictionary[i] = string.count(i)\n",
    "print(dictionary[min(dictionary,key=dictionary.get)])"
   ]
  },
  {
   "cell_type": "markdown",
   "metadata": {},
   "source": [
    "### 05) WAP to check if a given string is binary string or not"
   ]
  },
  {
   "cell_type": "code",
   "execution_count": 176,
   "metadata": {},
   "outputs": [
    {
     "name": "stdout",
     "output_type": "stream",
     "text": [
      "010101 is binary \n"
     ]
    }
   ],
   "source": [
    "string = input(\"Enter a string \")\n",
    "for i in string:\n",
    "    if i not in ['0','1']:\n",
    "        print(string,\"is not binary \")\n",
    "        break\n",
    "else:\n",
    "    print(string,\"is binary \")"
   ]
  }
 ],
 "metadata": {
  "kernelspec": {
   "display_name": "Python 3",
   "language": "python",
   "name": "python3"
  },
  "language_info": {
   "codemirror_mode": {
    "name": "ipython",
    "version": 3
   },
   "file_extension": ".py",
   "mimetype": "text/x-python",
   "name": "python",
   "nbconvert_exporter": "python",
   "pygments_lexer": "ipython3",
   "version": "3.11.0"
  },
  "vscode": {
   "interpreter": {
    "hash": "7906970c21a37aad23281fb4e04ffc671ef41eb2380e1c3bdf2de73fda28b099"
   }
  }
 },
 "nbformat": 4,
 "nbformat_minor": 4
}
