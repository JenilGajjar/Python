{
 "cells": [
  {
   "cell_type": "markdown",
   "metadata": {},
   "source": [
    "<a href='https://www.darshan.ac.in/'> <img src='https://www.darshan.ac.in/Content/media/DU_Logo.svg' width=\"250\" height=\"300\"/></a>\n",
    "<pre>\n",
    "<center><b><h1>Python Programming - 2101CS405</b></center>\n",
    "<center><b><h1>Lab - 11</b></center>    \n",
    "<pre>"
   ]
  },
  {
   "cell_type": "markdown",
   "metadata": {},
   "source": [
    "# Graphs"
   ]
  },
  {
   "cell_type": "markdown",
   "metadata": {},
   "source": [
    "# A"
   ]
  },
  {
   "cell_type": "code",
   "execution_count": null,
   "metadata": {},
   "outputs": [],
   "source": [
    "#import matplotlib below\n",
    "import matplotlib.pyplot as plt"
   ]
  },
  {
   "cell_type": "code",
   "execution_count": null,
   "metadata": {},
   "outputs": [],
   "source": [
    "#set matplotlib inline below\n",
    "%matplotlib inline\n"
   ]
  },
  {
   "cell_type": "code",
   "execution_count": null,
   "metadata": {},
   "outputs": [],
   "source": [
    "x = range(1,11)\n",
    "y = [1,5,9,7,5,6,3,2,4,9]\n",
    "plt.plot(x,y)\n",
    "plt.show()\n",
    "# write a code to display the line chart of above x & y"
   ]
  },
  {
   "cell_type": "code",
   "execution_count": null,
   "metadata": {},
   "outputs": [],
   "source": [
    "x = [1,2,3,4,5,6,7,8,9,10]\n",
    "cxMarks = [5,8,9,6,3,2,4,8,8,9]\n",
    "cyMarks = [8,9,6,3,5,7,4,1,2,6]\n",
    "\n",
    "# write a code to display two lines in a line chart (data given above)\n",
    "plt.plot(x,cxMarks)\n",
    "plt.plot(x,cyMarks)\n",
    "plt.show()\n"
   ]
  },
  {
   "cell_type": "code",
   "execution_count": null,
   "metadata": {},
   "outputs": [],
   "source": [
    "x = range(1,11,1)\n",
    "cxMarks= [8,9,6,3,5,7,4,1,2,6]\n",
    "cyMarks= [5,8,9,6,3,2,4,8,8,9]\n",
    "temp = min(cxMarks)\n",
    "temp2 = cyMarks[cxMarks.index(temp)]\n",
    "plt.plot(x,cxMarks, c='r', ls='--', marker='>')\n",
    "plt.plot(x,cyMarks, c='b', ls='--', marker='o')\n",
    "plt.xlabel('Roll No')\n",
    "plt.ylabel('CPI')\n",
    "plt.annotate(xy=[temp2,temp],text='Lowest CPI')\n",
    "plt.legend(['CX','CY'], loc=3)\n",
    "plt.show()\n",
    "\n",
    "# write a code to generate below graph\n"
   ]
  },
  {
   "cell_type": "code",
   "execution_count": null,
   "metadata": {},
   "outputs": [],
   "source": []
  },
  {
   "cell_type": "markdown",
   "metadata": {},
   "source": [
    "### 01) WAP to demonstrate the use of Pie chart."
   ]
  },
  {
   "cell_type": "code",
   "execution_count": null,
   "metadata": {},
   "outputs": [],
   "source": [
    "import random\n",
    "%matplotlib inline\n",
    "values = [random.randint(1,1000) for i in range(5)]\n",
    "labels = ['Food','Travel','Accomodation','Misc','Shoping']\n",
    "colors = ['b','g','r','c','y']\n",
    "explode = [0,0.1,0,0,0]\n",
    "plt.pie(values,colors=colors,labels=labels, explode=explode, autopct='%1.1f')\n",
    "plt.show()"
   ]
  },
  {
   "cell_type": "markdown",
   "metadata": {},
   "source": [
    "### 02) WAP to to Plot List random of X, Y Coordinates in Matplotlib."
   ]
  },
  {
   "cell_type": "code",
   "execution_count": null,
   "metadata": {},
   "outputs": [],
   "source": [
    "x = [random.randint(1,10) for i in range(10)]\n",
    "y = [random.randint(1,100) for i in range(10)]\n",
    "plt.plot(x,y)\n",
    "plt.show()"
   ]
  },
  {
   "cell_type": "markdown",
   "metadata": {},
   "source": [
    "### 03) WAP to demonstrate the use of Bar chart."
   ]
  },
  {
   "cell_type": "code",
   "execution_count": null,
   "metadata": {},
   "outputs": [],
   "source": [
    "\n",
    "\n",
    "x=[1,2,3,4,5]\n",
    "y=[1.2,3.5,9.1,8.1,4.5]\n",
    "colors = ['r','b','g','y','c']\n",
    "width = [0.5,0.5,0.7,0.7,0.8]\n",
    "labels = ['1st','2nd','3rd','4th','5th']\n",
    "plt.title('sem wise spi')\n",
    "plt.bar(x,y,color=colors,width=width)\n",
    "plt.show()"
   ]
  },
  {
   "cell_type": "markdown",
   "metadata": {},
   "source": [
    "### 04) WAP to demonstrate the use of Histogram."
   ]
  },
  {
   "cell_type": "code",
   "execution_count": null,
   "metadata": {},
   "outputs": [],
   "source": [
    "cpis = [random.randint(0,10) for i in range(10)]\n",
    "print(cpis)\n",
    "plt.hist(cpis,bins=10,align='mid',label='CPI HIST',histtype='stepfilled')\n",
    "plt.legend(loc=1)\n",
    "plt.show()"
   ]
  },
  {
   "cell_type": "markdown",
   "metadata": {},
   "source": [
    "# B"
   ]
  },
  {
   "cell_type": "markdown",
   "metadata": {},
   "source": [
    "### 01) WAP to display the value of each bar in a bar chart using Matplotlib."
   ]
  },
  {
   "cell_type": "code",
   "execution_count": null,
   "metadata": {},
   "outputs": [],
   "source": [
    "\n",
    "def addlabels(x,y):\n",
    "    for i in range(len(x)):\n",
    "        plt.text(x[i],y[i]//2,y[i], ha='center')\n",
    "\n",
    "x = [\"Engineering\", \"Hotel Management\", \"MBA\",\"Mass Communication\", \"BBA\", \"BSc\", \"MSc\"]\n",
    "y = [9330, 4050, 3030, 5500,8040, 4560, 6650]\n",
    "plt.figure(figsize = (10, 5))\n",
    "plt.bar(x, y)\n",
    "plt.title(\"College Admission\")\n",
    "plt.xlabel(\"Courses\")\n",
    "plt.ylabel(\"Number of Admissions\")\n",
    "addlabels(x, y)\n",
    "plt.show()"
   ]
  },
  {
   "cell_type": "markdown",
   "metadata": {},
   "source": [
    "### 02) WAP create a Scatter Plot with several colors in Matplotlib?"
   ]
  },
  {
   "cell_type": "code",
   "execution_count": null,
   "metadata": {},
   "outputs": [],
   "source": [
    "carAge1 = [random.randint(1,10) for i in range(10)]\n",
    "carSpeed1 = [random.randint(1,100) for i in range(10)]\n",
    "carAge2 = [random.randint(1,10) for i in range(10)]\n",
    "carSpeed2 = [random.randint(1,100) for i in range(10)]\n",
    "plt.scatter(carAge1,carSpeed1)\n",
    "plt.scatter(carAge2,carSpeed2)\n",
    "plt.show()\n"
   ]
  },
  {
   "cell_type": "markdown",
   "metadata": {},
   "source": [
    "### 03) WAP to Display an Image in Grayscale in Matplotlib."
   ]
  },
  {
   "cell_type": "code",
   "execution_count": null,
   "metadata": {},
   "outputs": [],
   "source": [
    "import PIL\n",
    "import matplotlib.pyplot as plt\n",
    "img = PIL.Image.open('33489345_6600_8_05.jpg')\n",
    "gray_image= img.convert(\"L\")\n",
    "plt.imshow(gray_image,cmap='gray')"
   ]
  }
 ],
 "metadata": {
  "kernelspec": {
   "display_name": "Python 3",
   "language": "python",
   "name": "python3"
  },
  "language_info": {
   "codemirror_mode": {
    "name": "ipython",
    "version": 3
   },
   "file_extension": ".py",
   "mimetype": "text/x-python",
   "name": "python",
   "nbconvert_exporter": "python",
   "pygments_lexer": "ipython3",
   "version": "3.11.0"
  },
  "vscode": {
   "interpreter": {
    "hash": "7906970c21a37aad23281fb4e04ffc671ef41eb2380e1c3bdf2de73fda28b099"
   }
  }
 },
 "nbformat": 4,
 "nbformat_minor": 4
}
