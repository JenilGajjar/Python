{
 "cells": [
  {
   "cell_type": "markdown",
   "metadata": {},
   "source": [
    "\n",
    "<a href='https://www.darshan.ac.in/'> <img src='https://www.darshan.ac.in/Content/media/DU_Logo.svg' width=\"250\" height=\"300\"/></a>\n",
    "<pre>\n",
    "<center><b><h1>Python Programming - 2101CS405</b></center>\n",
    "<center><b><h1>Lab - 2</b></center>    \n",
    "<pre>"
   ]
  },
  {
   "cell_type": "markdown",
   "metadata": {},
   "source": [
    "# if..else.."
   ]
  },
  {
   "cell_type": "markdown",
   "metadata": {},
   "source": [
    "### 01) WAP to check whether the given number is positive or negative."
   ]
  },
  {
   "cell_type": "code",
   "execution_count": 12,
   "metadata": {},
   "outputs": [
    {
     "name": "stdout",
     "output_type": "stream",
     "text": [
      "4 is positive\n"
     ]
    }
   ],
   "source": [
    "n = int(input(\"Enter a number\"))\n",
    "if n>=0:\n",
    "    print(n,\"is positive number\")\n",
    "else:\n",
    "    print(n,\"is negative number\")"
   ]
  },
  {
   "cell_type": "markdown",
   "metadata": {},
   "source": [
    "### 02) WAP to check whether the given number is odd or even"
   ]
  },
  {
   "cell_type": "code",
   "execution_count": 14,
   "metadata": {},
   "outputs": [
    {
     "name": "stdout",
     "output_type": "stream",
     "text": [
      "3 is odd number\n"
     ]
    }
   ],
   "source": [
    "n = int(input(\"Enter a number\"))\n",
    "if n % 2!=0:\n",
    "    print(n,\"is odd number\")\n",
    "else:\n",
    "    print(n,\"is even number\")"
   ]
  },
  {
   "cell_type": "markdown",
   "metadata": {},
   "source": [
    "### 03) WAP to find out largest number from given two numbers using simple if and ternary operator."
   ]
  },
  {
   "cell_type": "code",
   "execution_count": 23,
   "metadata": {},
   "outputs": [
    {
     "name": "stdout",
     "output_type": "stream",
     "text": [
      "5 is greater than 4\n"
     ]
    }
   ],
   "source": [
    "first = int(input(\"Enter first number\"))\n",
    "second = int(input(\"Enter second number\"))\n",
    "\n",
    "if first == second:\n",
    "    print(\"both numbers are equal\")\n",
    "elif first>second :\n",
    "    print(first,\"is greater than\",second)\n",
    "else :\n",
    "    print(second,\"is greater than\",first)"
   ]
  },
  {
   "cell_type": "markdown",
   "metadata": {},
   "source": [
    " 04) WAP to find out largest number from given three numbers."
   ]
  },
  {
   "cell_type": "code",
   "execution_count": 30,
   "metadata": {},
   "outputs": [
    {
     "name": "stdout",
     "output_type": "stream",
     "text": [
      "8 is the largest\n"
     ]
    }
   ],
   "source": [
    "a = int(input(\"Enter first number\"))\n",
    "b = int(input(\"Enter first number\"))\n",
    "c = int(input(\"Enter first number\"))\n",
    "\n",
    "if (a>b and a>c):\n",
    "    print(a,\"is the largest\")\n",
    "elif (b>c):\n",
    "    print(b,\"is the largest\")\n",
    "else:\n",
    "    print(c,\"is the largest\")\n"
   ]
  },
  {
   "cell_type": "markdown",
   "metadata": {},
   "source": [
    "### 05) WAP to check whether the given year is leap year or not.\n",
    "[If a year can be divisible by 4 but not divisible by 100 then it is leap year but if it is divisible by 400 then it is leap year]"
   ]
  },
  {
   "cell_type": "code",
   "execution_count": 45,
   "metadata": {},
   "outputs": [
    {
     "name": "stdout",
     "output_type": "stream",
     "text": [
      "1004 is a leap year\n"
     ]
    }
   ],
   "source": [
    "year = int(input(\"Enter year\"))\n",
    "\n",
    "if(year % 400 ==0):\n",
    "    print(year,\"is a leap year\")\n",
    "elif (year % 4==0 and year % 100 !=0 ):\n",
    "    print(year,\"is a leap year\")\n",
    "else:\n",
    "    print(year,\"is not a leap year\")"
   ]
  },
  {
   "cell_type": "markdown",
   "metadata": {},
   "source": [
    "### 06) WAP in python to display the name of the day according to the number given by the user"
   ]
  },
  {
   "cell_type": "code",
   "execution_count": 51,
   "metadata": {},
   "outputs": [
    {
     "name": "stdout",
     "output_type": "stream",
     "text": [
      "Sunday\n"
     ]
    }
   ],
   "source": [
    "day = int(input(\"Enter a number between 1 to 7\"))\n",
    "\n",
    "if day==1:\n",
    "    print(\"Monday\")\n",
    "elif day==2:\n",
    "    print(\"Tuesday\")\n",
    "elif day==3:\n",
    "    print(\"Wednesday\")\n",
    "elif day==4:\n",
    "    print(\"Thursday\")\n",
    "elif day==5:\n",
    "    print(\"Friday\")\n",
    "elif day==6:\n",
    "    print(\"Saturday\")\n",
    "elif day==7:\n",
    "    print(\"Sunday\")\n",
    "else :\n",
    "    print(\"Invalid input\")"
   ]
  },
  {
   "cell_type": "markdown",
   "metadata": {},
   "source": [
    "### 07) WAP to implement simple calculator which performs (add,sub,mul,div) of two no. based on user input."
   ]
  },
  {
   "cell_type": "code",
   "execution_count": 52,
   "metadata": {},
   "outputs": [
    {
     "name": "stdout",
     "output_type": "stream",
     "text": [
      "Addition : 7\n",
      "Subtraction : -1\n",
      "Multiplication : 12\n",
      "Division: 0.75\n"
     ]
    }
   ],
   "source": [
    "first = int(input(\"Enter first number\"))\n",
    "second = int(input(\"Enter second number\"))\n",
    "\n",
    "print(\"Addition :\",first + second)\n",
    "print(\"Subtraction :\",first - second)\n",
    "print(\"Multiplication :\",first * second)\n",
    "print(\"Division:\",first / second)"
   ]
  },
  {
   "cell_type": "markdown",
   "metadata": {},
   "source": [
    "### 08) WAP to calculate electricity bill based on following criteria. Which takes the unit from the user.\n",
    "a. First 1 to 50 units – Rs. 2.60/unit</br>\n",
    "b. Next 50 to 100 units – Rs. 3.25/unit</br>\n",
    "c. Next 100 to 200 units – Rs. 5.26/unit</br>\n",
    "d. above 200 units – Rs. 8.45/unit"
   ]
  },
  {
   "cell_type": "code",
   "execution_count": 55,
   "metadata": {},
   "outputs": [
    {
     "name": "stdout",
     "output_type": "stream",
     "text": [
      "electricity bill: 172.25\n"
     ]
    }
   ],
   "source": [
    "unit  = int(input(\"Enter unit\"))\n",
    "if (unit>0 and unit<=50):\n",
    "    print(\"electricity bill:\",2.6  * unit)\n",
    "elif (unit>50 and unit<=100):\n",
    "    print(\"electricity bill:\",3.25 * unit)\n",
    "elif (unit>100 and unit<=200):\n",
    "    print(\"electricity bill:\",5.26  * unit)\n",
    "elif (unit>200):\n",
    "    print(\"electricity bill:\",8.45  * unit)\n"
   ]
  },
  {
   "cell_type": "markdown",
   "metadata": {},
   "source": [
    " 01) WAP to read marks of five subjects. Calculate percentage and print class accordingly. \n",
    "Fail below 35 </br>\n",
    "Pass class between 35 to 45 </br>\n",
    "Second class</br>\n",
    "between 45 to 60</br>\n",
    "First Classbetween 60 to 70</br> \n",
    "Distinction if more than 70"
   ]
  },
  {
   "cell_type": "code",
   "execution_count": 63,
   "metadata": {},
   "outputs": [
    {
     "name": "stdout",
     "output_type": "stream",
     "text": [
      "Total : 491\n",
      "Percentage : 98.2\n",
      "Class: Distinction\n"
     ]
    }
   ],
   "source": [
    "list = []\n",
    "for i in range(5):\n",
    "    list.append(int(input(f\"Enter marks in subject {i+1}\")))\n",
    "percentage = sum(list) / len(list)\n",
    "\n",
    "print(\"Total :\",sum(list))\n",
    "print(\"Percentage :\",percentage)\n",
    "\n",
    "if(percentage<35):\n",
    "    print(\"Class: Fail\")\n",
    "elif(percentage>=35 and percentage<45):\n",
    "    print(\"Class: Pass\")\n",
    "elif(percentage>=45 and percentage<60):\n",
    "    print(\"Class: Second\")\n",
    "elif(percentage>=60 and percentage<70):\n",
    "    print(\"Class: First\")\n",
    "elif(percentage>=70 and percentage<100):\n",
    "    print(\"Class: Distinction\")\n",
    "else:\n",
    "    print(\"invalid \")\n"
   ]
  },
  {
   "cell_type": "markdown",
   "metadata": {},
   "source": [
    "### 02) WAP to find out the Maximum and Minimum number from given 4 numbers."
   ]
  },
  {
   "cell_type": "code",
   "execution_count": 71,
   "metadata": {},
   "outputs": [
    {
     "name": "stdout",
     "output_type": "stream",
     "text": [
      "5 8 6 2\n",
      "Maximum : 8\n",
      "Minimum : 2\n"
     ]
    }
   ],
   "source": [
    "a = int(input(\"Enter first number\"))\n",
    "b = int(input(\"Enter second number\"))\n",
    "c = int(input(\"Enter third number\"))\n",
    "d = int(input(\"Enter fourth number\"))\n",
    "\n",
    "print(a,b,c,d)\n",
    "max1 = a if a>b else b\n",
    "max2 = c if c>d else d\n",
    "maximum = max1 if max1>max2 else max2 \n",
    "print(\"Maximum :\",maximum)\n",
    "\n",
    "min1 = a if a<b else b\n",
    "min2 = c if c<d else d\n",
    "minimum = min1 if min1<min2 else min2 \n",
    "print(\"Minimum :\",minimum)"
   ]
  },
  {
   "cell_type": "markdown",
   "metadata": {},
   "source": [
    "### 03) WAP to input an integer number and check the last digit of number is even or odd."
   ]
  },
  {
   "cell_type": "code",
   "execution_count": 75,
   "metadata": {},
   "outputs": [
    {
     "name": "stdout",
     "output_type": "stream",
     "text": [
      "last digit of 85620 is 0\n"
     ]
    }
   ],
   "source": [
    "number = int(input(\"Enter a number\"))\n",
    "ldigit = number % 10\n",
    "print(\"last digit of\",number,\"is\",ldigit)"
   ]
  },
  {
   "cell_type": "markdown",
   "metadata": {},
   "source": [
    "### 04) WAP to determine the roots of the equation ax2+bx+c=0."
   ]
  },
  {
   "cell_type": "code",
   "execution_count": 98,
   "metadata": {},
   "outputs": [
    {
     "name": "stdout",
     "output_type": "stream",
     "text": [
      "9\n",
      "roots of 1x2+-7x+10 are \n",
      "root1 :5.0\n",
      "root2 :2.0\n"
     ]
    }
   ],
   "source": [
    "import math\n",
    "a = int(input(\"Enter a :\"))\n",
    "b = int(input(\"Enter b :\"))\n",
    "c = int(input(\"Enter c :\"))\n",
    "\n",
    "d = (b*b - (4 * a * c)) \n",
    "sqrt_of_d = math.sqrt(abs(d))\n",
    "print(d)\n",
    "print(\"roots of \",a,\"x2+\",b,\"x+\",c,\" are \",sep='')\n",
    "if(d==0):\n",
    "    print(\"both roots :\",(-b/2*a))\n",
    "elif(d>0):\n",
    "    print(f'root1 :{(-b + sqrt_of_d)/2*a}')\n",
    "    print(f'root2 :{(-b - sqrt_of_d)/2*a}')\n",
    "else:\n",
    "    print(f'root1 :{-b/2*a} + i{round(sqrt_of_d/2*a,2)}')\n",
    "    print(f'root2 :{-b/2*a} - i{round(sqrt_of_d/2*a,2)}')    "
   ]
  }
 ],
 "metadata": {
  "kernelspec": {
   "display_name": "Python 3 (ipykernel)",
   "language": "python",
   "name": "python3"
  },
  "language_info": {
   "codemirror_mode": {
    "name": "ipython",
    "version": 3
   },
   "file_extension": ".py",
   "mimetype": "text/x-python",
   "name": "python",
   "nbconvert_exporter": "python",
   "pygments_lexer": "ipython3",
   "version": "3.9.13"
  },
  "vscode": {
   "interpreter": {
    "hash": "7906970c21a37aad23281fb4e04ffc671ef41eb2380e1c3bdf2de73fda28b099"
   }
  }
 },
 "nbformat": 4,
 "nbformat_minor": 4
}
